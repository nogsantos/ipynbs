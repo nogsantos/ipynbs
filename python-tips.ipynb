{
 "cells": [
  {
   "cell_type": "code",
   "execution_count": 6,
   "metadata": {},
   "outputs": [
    {
     "output_type": "stream",
     "name": "stdout",
     "text": "1 Peter park\n2 Clark Kent\n3 Wade Wilson\n"
    }
   ],
   "source": [
    "\"\"\"Enumerate collections\"\"\"\n",
    "\n",
    "names = ['Peter park', 'Clark Kent', 'Wade Wilson']\n",
    "\n",
    "for index, name in enumerate(names, start=1):\n",
    "    print(index, name)"
   ]
  },
  {
   "cell_type": "code",
   "execution_count": 11,
   "metadata": {},
   "outputs": [
    {
     "output_type": "stream",
     "name": "stdout",
     "text": "1 Peter park Spiderman Marvel\n2 Clark Kent Superman DC\n3 Wade Wilson Deadpool Marvel\n"
    }
   ],
   "source": [
    "\"\"\"Zip collections\"\"\"\n",
    "\n",
    "names = ['Peter park', 'Clark Kent', 'Wade Wilson']\n",
    "heroes = ['Spiderman', 'Superman', 'Deadpool']\n",
    "universes = ['Marvel', 'DC', 'Marvel']\n",
    "\n",
    "for index, (name, hero, universe) in enumerate(zip(names, heroes, universes), start=1):\n",
    "    print(index, name, hero, universe)"
   ]
  },
  {
   "cell_type": "code",
   "execution_count": 13,
   "metadata": {},
   "outputs": [
    {
     "output_type": "stream",
     "name": "stdout",
     "text": "1\n[2, 3, 4, 5, 6]\n7\n"
    }
   ],
   "source": [
    "\"\"\"Unpack values\"\"\"\n",
    "\n",
    "a, *b, c = (1, 2, 3, 4, 5, 6, 7)\n",
    "\n",
    "print(a)\n",
    "print(b)\n",
    "print(c)"
   ]
  },
  {
   "cell_type": "code",
   "execution_count": 17,
   "metadata": {},
   "outputs": [
    {
     "output_type": "stream",
     "name": "stdout",
     "text": "Fabricio\nNogueira\n"
    }
   ],
   "source": [
    "\"\"\"Set or get attributes in/from a class\"\"\"\n",
    "\n",
    "class Person:\n",
    "    pass\n",
    "\n",
    "person = Person()\n",
    "\n",
    "person_info = {\n",
    "    'first': 'Fabricio',\n",
    "    'last': 'Nogueira'\n",
    "}\n",
    "\n",
    "for key, value in person_info.items():\n",
    "    setattr(person, key, value)\n",
    "\n",
    "for key in person_info.keys():\n",
    "    print(getattr(person, key))\n"
   ]
  }
 ],
 "metadata": {
  "language_info": {
   "codemirror_mode": {
    "name": "ipython",
    "version": 3
   },
   "file_extension": ".py",
   "mimetype": "text/x-python",
   "name": "python",
   "nbconvert_exporter": "python",
   "pygments_lexer": "ipython3",
   "version": "3.7.4-final"
  },
  "orig_nbformat": 2,
  "kernelspec": {
   "name": "python37464bitvenvvirtualenvc4c97c7909d24bcd9fda302b0576ef40",
   "display_name": "Python 3.7.4 64-bit ('.venv': virtualenv)"
  }
 },
 "nbformat": 4,
 "nbformat_minor": 2
}