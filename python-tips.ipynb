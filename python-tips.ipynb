{
 "cells": [
  {
   "cell_type": "code",
   "execution_count": 1,
   "metadata": {},
   "outputs": [
    {
     "output_type": "stream",
     "name": "stdout",
     "text": "1 Peter park\n2 Clark Kent\n3 Wade Wilson\n"
    }
   ],
   "source": [
    "\"\"\"Enumerate collections\"\"\"\n",
    "\n",
    "names = ['Peter park', 'Clark Kent', 'Wade Wilson']\n",
    "\n",
    "for index, name in enumerate(names, start=1):\n",
    "    print(index, name)"
   ]
  },
  {
   "cell_type": "code",
   "execution_count": 2,
   "metadata": {},
   "outputs": [
    {
     "output_type": "stream",
     "name": "stdout",
     "text": "1 Peter park Spiderman Marvel\n2 Clark Kent Superman DC\n3 Wade Wilson Deadpool Marvel\n"
    }
   ],
   "source": [
    "\"\"\"Zip collections\"\"\"\n",
    "\n",
    "names = ['Peter park', 'Clark Kent', 'Wade Wilson']\n",
    "heroes = ['Spiderman', 'Superman', 'Deadpool']\n",
    "universes = ['Marvel', 'DC', 'Marvel']\n",
    "\n",
    "for index, (name, hero, universe) in enumerate(zip(names, heroes, universes), start=1):\n",
    "    print(index, name, hero, universe)"
   ]
  },
  {
   "cell_type": "code",
   "execution_count": 3,
   "metadata": {},
   "outputs": [
    {
     "output_type": "stream",
     "name": "stdout",
     "text": "1\n[2, 3, 4, 5, 6]\n7\n"
    }
   ],
   "source": [
    "\"\"\"Unpack values\"\"\"\n",
    "\n",
    "a, *b, c = (1, 2, 3, 4, 5, 6, 7)\n",
    "\n",
    "print(a)\n",
    "print(b)\n",
    "print(c)"
   ]
  },
  {
   "cell_type": "code",
   "execution_count": 4,
   "metadata": {},
   "outputs": [
    {
     "output_type": "stream",
     "name": "stdout",
     "text": "Fabricio\nNogueira\n"
    }
   ],
   "source": [
    "\"\"\"Set or get attributes in/from a class\"\"\"\n",
    "\n",
    "class Person:\n",
    "    pass\n",
    "\n",
    "person = Person()\n",
    "\n",
    "person_info = {\n",
    "    'first': 'Fabricio',\n",
    "    'last': 'Nogueira'\n",
    "}\n",
    "\n",
    "for key, value in person_info.items():\n",
    "    setattr(person, key, value)\n",
    "\n",
    "for key in person_info.keys():\n",
    "    print(getattr(person, key))\n"
   ]
  },
  {
   "cell_type": "code",
   "execution_count": 5,
   "metadata": {},
   "outputs": [
    {
     "output_type": "error",
     "ename": "TypeError",
     "evalue": "read() takes 0 positional arguments but 1 was given",
     "traceback": [
      "\u001b[0;31m---------------------------------------------------------------------------\u001b[0m",
      "\u001b[0;31mTypeError\u001b[0m                                 Traceback (most recent call last)",
      "\u001b[0;32m<ipython-input-5-42a16b359b3e>\u001b[0m in \u001b[0;36m<module>\u001b[0;34m\u001b[0m\n\u001b[1;32m      7\u001b[0m \u001b[0;34m\u001b[0m\u001b[0m\n\u001b[1;32m      8\u001b[0m \u001b[0;32mfor\u001b[0m \u001b[0mr\u001b[0m \u001b[0;32min\u001b[0m \u001b[0mrange\u001b[0m\u001b[0;34m(\u001b[0m\u001b[0;36m1\u001b[0m\u001b[0;34m,\u001b[0m \u001b[0;36m100\u001b[0m\u001b[0;34m)\u001b[0m\u001b[0;34m:\u001b[0m\u001b[0;34m\u001b[0m\u001b[0;34m\u001b[0m\u001b[0m\n\u001b[0;32m----> 9\u001b[0;31m     \u001b[0mprint\u001b[0m\u001b[0;34m(\u001b[0m\u001b[0mread\u001b[0m\u001b[0;34m(\u001b[0m\u001b[0mr\u001b[0m\u001b[0;34m)\u001b[0m\u001b[0;34m)\u001b[0m\u001b[0;34m\u001b[0m\u001b[0;34m\u001b[0m\u001b[0m\n\u001b[0m",
      "\u001b[0;31mTypeError\u001b[0m: read() takes 0 positional arguments but 1 was given"
     ]
    }
   ],
   "source": [
    "# def read_export(filename):\n",
    "#     for r in open(filename, \"r\"):\n",
    "#         yield r\n",
    "\n",
    "def read():    \n",
    "    yield 1\n",
    "\n",
    "for r in range(1, 100):\n",
    "    print(read(r))"
   ]
  },
  {
   "cell_type": "code",
   "execution_count": 6,
   "metadata": {},
   "outputs": [
    {
     "output_type": "stream",
     "name": "stdout",
     "text": "1\n2\n"
    }
   ],
   "source": [
    "def simpleGeneratorFun(): \n",
    "    yield 1\n",
    "    yield 2\n",
    "    return 3\n",
    "  \n",
    "# Driver code to check above generator function \n",
    "for value in simpleGeneratorFun():  \n",
    "    print(value) "
   ]
  },
  {
   "cell_type": "code",
   "execution_count": 7,
   "metadata": {
    "tags": [
     "outputPrepend"
    ]
   },
   "outputs": [
    {
     "output_type": "execute_result",
     "data": {
      "text/plain": "Counter({'HTML/CSS': 55466,\n         'Java': 35917,\n         'JavaScript': 59219,\n         'Python': 36443,\n         'C++': 20524,\n         'C': 18017,\n         'C#': 27097,\n         'SQL': 47544,\n         'VBA': 4781,\n         'R': 5048,\n         'Bash/Shell/PowerShell': 31991,\n         'Ruby': 7331,\n         'Rust': 2794,\n         'TypeScript': 18523,\n         'WebAssembly': 1015,\n         'Other(s):': 7920,\n         'Go': 7201,\n         'PHP': 23030,\n         'Assembly': 5833,\n         'Kotlin': 5620,\n         'Swift': 5744,\n         'Objective-C': 4191,\n         'Elixir': 1260,\n         'Erlang': 777,\n         'Clojure': 1254,\n         'F#': 973,\n         'Scala': 3309,\n         'Dart': 1683})"
     },
     "metadata": {},
     "execution_count": 7
    }
   ],
   "source": [
    "# Counter: Sum the number of repetions of an item in a list\n",
    "from collections import Counter\n",
    "\n",
    "with open('./data/data-all-languages.csv') as languages:\n",
    "    \n",
    "    counter = Counter()\n",
    "    str_of_languages = [language.rstrip() for language in languages]\n",
    "    \n",
    "    counter.update()\n",
    "    for language in str_of_languages:        \n",
    "        counter.update(language.split(';'))\n",
    "\n",
    "counter"
   ]
  }
 ],
 "metadata": {
  "language_info": {
   "codemirror_mode": {
    "name": "ipython",
    "version": 3
   },
   "file_extension": ".py",
   "mimetype": "text/x-python",
   "name": "python",
   "nbconvert_exporter": "python",
   "pygments_lexer": "ipython3",
   "version": "3.7.4-final"
  },
  "orig_nbformat": 2,
  "kernelspec": {
   "name": "python37464bitvenvvirtualenvdb9e7e45e58a412aa1d8a140187358c9",
   "display_name": "Python 3.7.4 64-bit ('.venv': virtualenv)"
  }
 },
 "nbformat": 4,
 "nbformat_minor": 2
}