{
 "cells": [
  {
   "cell_type": "code",
   "execution_count": null,
   "metadata": {},
   "outputs": [],
   "source": [
    "\"\"\"Enumerate collections\"\"\"\n",
    "\n",
    "names = ['Peter park', 'Clark Kent', 'Wade Wilson']\n",
    "\n",
    "for index, name in enumerate(names, start=1):\n",
    "    print(index, name)"
   ]
  },
  {
   "cell_type": "code",
   "execution_count": null,
   "metadata": {},
   "outputs": [],
   "source": [
    "\"\"\"Zip collections\"\"\"\n",
    "\n",
    "names = ['Peter park', 'Clark Kent', 'Wade Wilson']\n",
    "heroes = ['Spiderman', 'Superman', 'Deadpool']\n",
    "universes = ['Marvel', 'DC', 'Marvel']\n",
    "\n",
    "for index, (name, hero, universe) in enumerate(zip(names, heroes, universes), start=1):\n",
    "    print(index, name, hero, universe)"
   ]
  },
  {
   "cell_type": "code",
   "execution_count": null,
   "metadata": {},
   "outputs": [],
   "source": [
    "\"\"\"Unpack values\"\"\"\n",
    "\n",
    "a, *b, c = (1, 2, 3, 4, 5, 6, 7)\n",
    "\n",
    "print(a)\n",
    "print(b)\n",
    "print(c)"
   ]
  },
  {
   "cell_type": "code",
   "execution_count": null,
   "metadata": {},
   "outputs": [],
   "source": [
    "\"\"\"Set or get attributes in/from a class\"\"\"\n",
    "\n",
    "class Person:\n",
    "    pass\n",
    "\n",
    "person = Person()\n",
    "\n",
    "person_info = {\n",
    "    'first': 'Fabricio',\n",
    "    'last': 'Nogueira'\n",
    "}\n",
    "\n",
    "for key, value in person_info.items():\n",
    "    setattr(person, key, value)\n",
    "\n",
    "for key in person_info.keys():\n",
    "    print(getattr(person, key))\n"
   ]
  },
  {
   "cell_type": "code",
   "execution_count": null,
   "metadata": {},
   "outputs": [],
   "source": [
    "# def read_export(filename):\n",
    "#     for r in open(filename, \"r\"):\n",
    "#         yield r\n",
    "\n",
    "# def read():    \n",
    "#     yield 1\n",
    "\n",
    "# for r in range(1, 100):\n",
    "#     print(read(r))"
   ]
  },
  {
   "cell_type": "code",
   "execution_count": null,
   "metadata": {},
   "outputs": [],
   "source": [
    "def simpleGeneratorFun(): \n",
    "    yield 1\n",
    "    yield 2\n",
    "    return 3\n",
    "  \n",
    "# Driver code to check above generator function \n",
    "for value in simpleGeneratorFun():  \n",
    "    print(value) "
   ]
  },
  {
   "cell_type": "code",
   "execution_count": null,
   "metadata": {
    "tags": [
     "outputPrepend"
    ]
   },
   "outputs": [],
   "source": [
    "# Counter: Sum the number of repetions of an item in a list\n",
    "from collections import Counter\n",
    "\n",
    "with open('./data/data-all-languages.csv') as languages:\n",
    "    \n",
    "    counter = Counter()\n",
    "    str_of_languages = [language.rstrip() for language in languages]\n",
    "    \n",
    "    counter.update()\n",
    "    for language in str_of_languages:        \n",
    "        counter.update(language.split(';'))\n",
    "\n",
    "counter"
   ]
  },
  {
   "cell_type": "code",
   "execution_count": null,
   "metadata": {},
   "outputs": [],
   "source": [
    "from pdfminer.high_level import extract_text\n",
    "\n",
    "info = extract_text('./data/eng.pdf')"
   ]
  }
 ],
 "metadata": {
  "language_info": {
   "codemirror_mode": {
    "name": "ipython",
    "version": 3
   },
   "file_extension": ".py",
   "mimetype": "text/x-python",
   "name": "python",
   "nbconvert_exporter": "python",
   "pygments_lexer": "ipython3",
   "version": "3.7.4-final"
  },
  "orig_nbformat": 2,
  "kernelspec": {
   "name": "python37464bitvenvvirtualenvdb9e7e45e58a412aa1d8a140187358c9",
   "display_name": "Python 3.7.4 64-bit ('.venv': virtualenv)"
  }
 },
 "nbformat": 4,
 "nbformat_minor": 2
}