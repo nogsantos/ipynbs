{
 "cells": [
  {
   "cell_type": "markdown",
   "metadata": {},
   "source": [
    "# Insights Stack Overflow Annual Developer Survey - 2019\n",
    "\n",
    "Download survey data at [Stack Overflow](https://insights.stackoverflow.com/survey)"
   ]
  },
  {
   "cell_type": "code",
   "execution_count": 1,
   "metadata": {},
   "outputs": [],
   "source": [
    "import pandas as pd\n",
    "import numpy as np\n",
    "from matplotlib import pyplot as plt"
   ]
  },
  {
   "cell_type": "code",
   "execution_count": 24,
   "metadata": {},
   "outputs": [],
   "source": [
    "# Loading data\n",
    "\n",
    "dt = pd.read_csv('./data/survey_results_public.csv', index_col='Respondent')\n",
    "\"\"\" To set index after data load\n",
    "dt.set_index('Respondent', inplace=True, verify_integrity=True)\n",
    "\"\"\"\n",
    "\n",
    "dt_schema = pd.read_csv('./data/survey_results_schema.csv', index_col='Column')"
   ]
  },
  {
   "cell_type": "code",
   "execution_count": 3,
   "metadata": {},
   "outputs": [],
   "source": [
    "# Configurations\n",
    "\n",
    "plt.style.use(plt.style.available[9]) # Define chart style [9 = Seaborn style]\n",
    "pd.set_option('display.max_columns', dt.shape[0]) # Set dataframe visible columns\n",
    "\n",
    "dt.sort_index(inplace=True) # Order by index"
   ]
  },
  {
   "cell_type": "code",
   "execution_count": 4,
   "metadata": {},
   "outputs": [
    {
     "output_type": "execute_result",
     "data": {
      "text/plain": "                                        MainBranch Hobbyist OpenSourcer  \\\nRespondent                                                                \n1           I am a student who is learning to code      Yes       Never   \n\n                                                   OpenSource  \\\nRespondent                                                      \n1           The quality of OSS and closed source software ...   \n\n                                        Employment         Country Student  \\\nRespondent                                                                   \n1           Not employed, and not looking for work  United Kingdom      No   \n\n                              EdLevel UndergradMajor  \\\nRespondent                                             \n1           Primary/elementary school            NaN   \n\n                                                     EduOther OrgSize DevType  \\\nRespondent                                                                      \n1           Taught yourself a new language, framework, or ...     NaN     NaN   \n\n           YearsCode Age1stCode YearsCodePro CareerSat JobSat MgrIdiot  \\\nRespondent                                                               \n1                  4         10          NaN       NaN    NaN      NaN   \n\n           MgrMoney MgrWant JobSeek LastHireDate LastInt FizzBuzz JobFactors  \\\nRespondent                                                                     \n1               NaN     NaN     NaN          NaN     NaN      NaN        NaN   \n\n           ResumeUpdate CurrencySymbol CurrencyDesc  CompTotal CompFreq  \\\nRespondent                                                                \n1                   NaN            NaN          NaN        NaN      NaN   \n\n            ConvertedComp  WorkWeekHrs WorkPlan WorkChallenge WorkRemote  \\\nRespondent                                                                 \n1                     NaN          NaN      NaN           NaN        NaN   \n\n           WorkLoc ImpSyn CodeRev  CodeRevHrs UnitTests PurchaseHow  \\\nRespondent                                                            \n1              NaN    NaN     NaN         NaN       NaN         NaN   \n\n           PurchaseWhat               LanguageWorkedWith  \\\nRespondent                                                 \n1                   NaN  HTML/CSS;Java;JavaScript;Python   \n\n                                     LanguageDesireNextYear  \\\nRespondent                                                    \n1           C;C++;C#;Go;HTML/CSS;Java;JavaScript;Python;SQL   \n\n           DatabaseWorkedWith DatabaseDesireNextYear PlatformWorkedWith  \\\nRespondent                                                                \n1                      SQLite                  MySQL      MacOS;Windows   \n\n             PlatformDesireNextYear WebFrameWorkedWith WebFrameDesireNextYear  \\\nRespondent                                                                      \n1           Android;Arduino;Windows       Django;Flask           Flask;jQuery   \n\n           MiscTechWorkedWith MiscTechDesireNextYear  \\\nRespondent                                             \n1                     Node.js                Node.js   \n\n                            DevEnviron    OpSys               Containers  \\\nRespondent                                                                 \n1           IntelliJ;Notepad++;PyCharm  Windows  I do not use containers   \n\n           BlockchainOrg BlockchainIs BetterLife  \\\nRespondent                                         \n1                    NaN          NaN        Yes   \n\n                                            ITperson OffOn SocialMedia  \\\nRespondent                                                               \n1           Fortunately, someone else has that title   Yes     Twitter   \n\n           Extraversion ScreenName SOVisit1st  \\\nRespondent                                      \n1                Online   Username       2017   \n\n                                SOVisitFreq  \\\nRespondent                                    \n1           A few times per month or weekly   \n\n                                                    SOVisitTo  \\\nRespondent                                                      \n1           Find answers to specific questions;Learn how t...   \n\n                  SOFindAnswer                     SOTimeSaved  SOHowMuchTime  \\\nRespondent                                                                      \n1           3-5 times per week  Stack Overflow was much faster  31-60 minutes   \n\n           SOAccount SOPartFreq  \\\nRespondent                        \n1                 No        NaN   \n\n                                                       SOJobs  \\\nRespondent                                                      \n1           No, I didn't know that Stack Overflow had a jo...   \n\n                                       EntTeams   SOComm  \\\nRespondent                                                 \n1           No, and I don't know what those are  Neutral   \n\n                                      WelcomeChange  \\\nRespondent                                            \n1           Just as welcome now as I felt last year   \n\n                                                 SONewContent   Age Gender  \\\nRespondent                                                                   \n1           Tech articles written by other developers;Indu...  14.0    Man   \n\n           Trans                Sexuality Ethnicity Dependents  \\\nRespondent                                                       \n1             No  Straight / Heterosexual       NaN         No   \n\n                     SurveyLength                  SurveyEase  \nRespondent                                                     \n1           Appropriate in length  Neither easy nor difficult  ",
      "text/html": "<div>\n<style scoped>\n    .dataframe tbody tr th:only-of-type {\n        vertical-align: middle;\n    }\n\n    .dataframe tbody tr th {\n        vertical-align: top;\n    }\n\n    .dataframe thead th {\n        text-align: right;\n    }\n</style>\n<table border=\"1\" class=\"dataframe\">\n  <thead>\n    <tr style=\"text-align: right;\">\n      <th></th>\n      <th>MainBranch</th>\n      <th>Hobbyist</th>\n      <th>OpenSourcer</th>\n      <th>OpenSource</th>\n      <th>Employment</th>\n      <th>Country</th>\n      <th>Student</th>\n      <th>EdLevel</th>\n      <th>UndergradMajor</th>\n      <th>EduOther</th>\n      <th>OrgSize</th>\n      <th>DevType</th>\n      <th>YearsCode</th>\n      <th>Age1stCode</th>\n      <th>YearsCodePro</th>\n      <th>CareerSat</th>\n      <th>JobSat</th>\n      <th>MgrIdiot</th>\n      <th>MgrMoney</th>\n      <th>MgrWant</th>\n      <th>JobSeek</th>\n      <th>LastHireDate</th>\n      <th>LastInt</th>\n      <th>FizzBuzz</th>\n      <th>JobFactors</th>\n      <th>ResumeUpdate</th>\n      <th>CurrencySymbol</th>\n      <th>CurrencyDesc</th>\n      <th>CompTotal</th>\n      <th>CompFreq</th>\n      <th>ConvertedComp</th>\n      <th>WorkWeekHrs</th>\n      <th>WorkPlan</th>\n      <th>WorkChallenge</th>\n      <th>WorkRemote</th>\n      <th>WorkLoc</th>\n      <th>ImpSyn</th>\n      <th>CodeRev</th>\n      <th>CodeRevHrs</th>\n      <th>UnitTests</th>\n      <th>PurchaseHow</th>\n      <th>PurchaseWhat</th>\n      <th>LanguageWorkedWith</th>\n      <th>LanguageDesireNextYear</th>\n      <th>DatabaseWorkedWith</th>\n      <th>DatabaseDesireNextYear</th>\n      <th>PlatformWorkedWith</th>\n      <th>PlatformDesireNextYear</th>\n      <th>WebFrameWorkedWith</th>\n      <th>WebFrameDesireNextYear</th>\n      <th>MiscTechWorkedWith</th>\n      <th>MiscTechDesireNextYear</th>\n      <th>DevEnviron</th>\n      <th>OpSys</th>\n      <th>Containers</th>\n      <th>BlockchainOrg</th>\n      <th>BlockchainIs</th>\n      <th>BetterLife</th>\n      <th>ITperson</th>\n      <th>OffOn</th>\n      <th>SocialMedia</th>\n      <th>Extraversion</th>\n      <th>ScreenName</th>\n      <th>SOVisit1st</th>\n      <th>SOVisitFreq</th>\n      <th>SOVisitTo</th>\n      <th>SOFindAnswer</th>\n      <th>SOTimeSaved</th>\n      <th>SOHowMuchTime</th>\n      <th>SOAccount</th>\n      <th>SOPartFreq</th>\n      <th>SOJobs</th>\n      <th>EntTeams</th>\n      <th>SOComm</th>\n      <th>WelcomeChange</th>\n      <th>SONewContent</th>\n      <th>Age</th>\n      <th>Gender</th>\n      <th>Trans</th>\n      <th>Sexuality</th>\n      <th>Ethnicity</th>\n      <th>Dependents</th>\n      <th>SurveyLength</th>\n      <th>SurveyEase</th>\n    </tr>\n    <tr>\n      <th>Respondent</th>\n      <th></th>\n      <th></th>\n      <th></th>\n      <th></th>\n      <th></th>\n      <th></th>\n      <th></th>\n      <th></th>\n      <th></th>\n      <th></th>\n      <th></th>\n      <th></th>\n      <th></th>\n      <th></th>\n      <th></th>\n      <th></th>\n      <th></th>\n      <th></th>\n      <th></th>\n      <th></th>\n      <th></th>\n      <th></th>\n      <th></th>\n      <th></th>\n      <th></th>\n      <th></th>\n      <th></th>\n      <th></th>\n      <th></th>\n      <th></th>\n      <th></th>\n      <th></th>\n      <th></th>\n      <th></th>\n      <th></th>\n      <th></th>\n      <th></th>\n      <th></th>\n      <th></th>\n      <th></th>\n      <th></th>\n      <th></th>\n      <th></th>\n      <th></th>\n      <th></th>\n      <th></th>\n      <th></th>\n      <th></th>\n      <th></th>\n      <th></th>\n      <th></th>\n      <th></th>\n      <th></th>\n      <th></th>\n      <th></th>\n      <th></th>\n      <th></th>\n      <th></th>\n      <th></th>\n      <th></th>\n      <th></th>\n      <th></th>\n      <th></th>\n      <th></th>\n      <th></th>\n      <th></th>\n      <th></th>\n      <th></th>\n      <th></th>\n      <th></th>\n      <th></th>\n      <th></th>\n      <th></th>\n      <th></th>\n      <th></th>\n      <th></th>\n      <th></th>\n      <th></th>\n      <th></th>\n      <th></th>\n      <th></th>\n      <th></th>\n      <th></th>\n      <th></th>\n    </tr>\n  </thead>\n  <tbody>\n    <tr>\n      <th>1</th>\n      <td>I am a student who is learning to code</td>\n      <td>Yes</td>\n      <td>Never</td>\n      <td>The quality of OSS and closed source software ...</td>\n      <td>Not employed, and not looking for work</td>\n      <td>United Kingdom</td>\n      <td>No</td>\n      <td>Primary/elementary school</td>\n      <td>NaN</td>\n      <td>Taught yourself a new language, framework, or ...</td>\n      <td>NaN</td>\n      <td>NaN</td>\n      <td>4</td>\n      <td>10</td>\n      <td>NaN</td>\n      <td>NaN</td>\n      <td>NaN</td>\n      <td>NaN</td>\n      <td>NaN</td>\n      <td>NaN</td>\n      <td>NaN</td>\n      <td>NaN</td>\n      <td>NaN</td>\n      <td>NaN</td>\n      <td>NaN</td>\n      <td>NaN</td>\n      <td>NaN</td>\n      <td>NaN</td>\n      <td>NaN</td>\n      <td>NaN</td>\n      <td>NaN</td>\n      <td>NaN</td>\n      <td>NaN</td>\n      <td>NaN</td>\n      <td>NaN</td>\n      <td>NaN</td>\n      <td>NaN</td>\n      <td>NaN</td>\n      <td>NaN</td>\n      <td>NaN</td>\n      <td>NaN</td>\n      <td>NaN</td>\n      <td>HTML/CSS;Java;JavaScript;Python</td>\n      <td>C;C++;C#;Go;HTML/CSS;Java;JavaScript;Python;SQL</td>\n      <td>SQLite</td>\n      <td>MySQL</td>\n      <td>MacOS;Windows</td>\n      <td>Android;Arduino;Windows</td>\n      <td>Django;Flask</td>\n      <td>Flask;jQuery</td>\n      <td>Node.js</td>\n      <td>Node.js</td>\n      <td>IntelliJ;Notepad++;PyCharm</td>\n      <td>Windows</td>\n      <td>I do not use containers</td>\n      <td>NaN</td>\n      <td>NaN</td>\n      <td>Yes</td>\n      <td>Fortunately, someone else has that title</td>\n      <td>Yes</td>\n      <td>Twitter</td>\n      <td>Online</td>\n      <td>Username</td>\n      <td>2017</td>\n      <td>A few times per month or weekly</td>\n      <td>Find answers to specific questions;Learn how t...</td>\n      <td>3-5 times per week</td>\n      <td>Stack Overflow was much faster</td>\n      <td>31-60 minutes</td>\n      <td>No</td>\n      <td>NaN</td>\n      <td>No, I didn't know that Stack Overflow had a jo...</td>\n      <td>No, and I don't know what those are</td>\n      <td>Neutral</td>\n      <td>Just as welcome now as I felt last year</td>\n      <td>Tech articles written by other developers;Indu...</td>\n      <td>14.0</td>\n      <td>Man</td>\n      <td>No</td>\n      <td>Straight / Heterosexual</td>\n      <td>NaN</td>\n      <td>No</td>\n      <td>Appropriate in length</td>\n      <td>Neither easy nor difficult</td>\n    </tr>\n  </tbody>\n</table>\n</div>"
     },
     "metadata": {},
     "execution_count": 4
    }
   ],
   "source": [
    "dt.head(1)"
   ]
  },
  {
   "cell_type": "code",
   "execution_count": 5,
   "metadata": {},
   "outputs": [
    {
     "output_type": "stream",
     "name": "stdout",
     "text": "<class 'pandas.core.frame.DataFrame'>\nInt64Index: 88883 entries, 1 to 88883\nData columns (total 84 columns):\n #   Column                  Non-Null Count  Dtype  \n---  ------                  --------------  -----  \n 0   MainBranch              88331 non-null  object \n 1   Hobbyist                88883 non-null  object \n 2   OpenSourcer             88883 non-null  object \n 3   OpenSource              86842 non-null  object \n 4   Employment              87181 non-null  object \n 5   Country                 88751 non-null  object \n 6   Student                 87014 non-null  object \n 7   EdLevel                 86390 non-null  object \n 8   UndergradMajor          75614 non-null  object \n 9   EduOther                84260 non-null  object \n 10  OrgSize                 71791 non-null  object \n 11  DevType                 81335 non-null  object \n 12  YearsCode               87938 non-null  object \n 13  Age1stCode              87634 non-null  object \n 14  YearsCodePro            74331 non-null  object \n 15  CareerSat               72847 non-null  object \n 16  JobSat                  70988 non-null  object \n 17  MgrIdiot                61159 non-null  object \n 18  MgrMoney                61157 non-null  object \n 19  MgrWant                 61232 non-null  object \n 20  JobSeek                 80555 non-null  object \n 21  LastHireDate            79854 non-null  object \n 22  LastInt                 67155 non-null  object \n 23  FizzBuzz                71344 non-null  object \n 24  JobFactors              79371 non-null  object \n 25  ResumeUpdate            77877 non-null  object \n 26  CurrencySymbol          71392 non-null  object \n 27  CurrencyDesc            71392 non-null  object \n 28  CompTotal               55945 non-null  float64\n 29  CompFreq                63268 non-null  object \n 30  ConvertedComp           55823 non-null  float64\n 31  WorkWeekHrs             64503 non-null  float64\n 32  WorkPlan                68914 non-null  object \n 33  WorkChallenge           68141 non-null  object \n 34  WorkRemote              70284 non-null  object \n 35  WorkLoc                 70055 non-null  object \n 36  ImpSyn                  71779 non-null  object \n 37  CodeRev                 70390 non-null  object \n 38  CodeRevHrs              49790 non-null  float64\n 39  UnitTests               62668 non-null  object \n 40  PurchaseHow             61108 non-null  object \n 41  PurchaseWhat            62029 non-null  object \n 42  LanguageWorkedWith      87569 non-null  object \n 43  LanguageDesireNextYear  84088 non-null  object \n 44  DatabaseWorkedWith      76026 non-null  object \n 45  DatabaseDesireNextYear  69147 non-null  object \n 46  PlatformWorkedWith      80714 non-null  object \n 47  PlatformDesireNextYear  77443 non-null  object \n 48  WebFrameWorkedWith      65022 non-null  object \n 49  WebFrameDesireNextYear  62944 non-null  object \n 50  MiscTechWorkedWith      59586 non-null  object \n 51  MiscTechDesireNextYear  64511 non-null  object \n 52  DevEnviron              87317 non-null  object \n 53  OpSys                   87851 non-null  object \n 54  Containers              85366 non-null  object \n 55  BlockchainOrg           48175 non-null  object \n 56  BlockchainIs            60165 non-null  object \n 57  BetterLife              86269 non-null  object \n 58  ITperson                87141 non-null  object \n 59  OffOn                   86663 non-null  object \n 60  SocialMedia             84437 non-null  object \n 61  Extraversion            87305 non-null  object \n 62  ScreenName              80486 non-null  object \n 63  SOVisit1st              83877 non-null  object \n 64  SOVisitFreq             88263 non-null  object \n 65  SOVisitTo               88086 non-null  object \n 66  SOFindAnswer            87816 non-null  object \n 67  SOTimeSaved             86344 non-null  object \n 68  SOHowMuchTime           68378 non-null  object \n 69  SOAccount               87828 non-null  object \n 70  SOPartFreq              74692 non-null  object \n 71  SOJobs                  88066 non-null  object \n 72  EntTeams                87841 non-null  object \n 73  SOComm                  88131 non-null  object \n 74  WelcomeChange           85855 non-null  object \n 75  SONewContent            69560 non-null  object \n 76  Age                     79210 non-null  float64\n 77  Gender                  85406 non-null  object \n 78  Trans                   83607 non-null  object \n 79  Sexuality               76147 non-null  object \n 80  Ethnicity               76668 non-null  object \n 81  Dependents              83059 non-null  object \n 82  SurveyLength            86984 non-null  object \n 83  SurveyEase              87081 non-null  object \ndtypes: float64(5), object(79)\nmemory usage: 57.6+ MB\n"
    }
   ],
   "source": [
    "dt.info()"
   ]
  },
  {
   "cell_type": "code",
   "execution_count": 6,
   "metadata": {},
   "outputs": [
    {
     "output_type": "execute_result",
     "data": {
      "text/plain": "'Which of the following do you currently identify as? Please select all that apply. If you prefer not to answer, you may leave this question blank.'"
     },
     "metadata": {},
     "execution_count": 6
    }
   ],
   "source": [
    "dt_schema.loc['Gender', 'QuestionText']"
   ]
  },
  {
   "cell_type": "code",
   "execution_count": 7,
   "metadata": {},
   "outputs": [
    {
     "output_type": "execute_result",
     "data": {
      "text/plain": "                                                    QuestionText\nColumn                                                          \nAge            What is your age (in years)? If you prefer not...\nAge1stCode     At what age did you write your first line of c...\nBetterLife     Do you think people born today will have a bet...\nBlockchainIs   Blockchain / cryptocurrency technology is prim...\nBlockchainOrg  How is your organization thinking about or imp...\n...                                                          ...\nWorkPlan                 How structured or planned is your work?\nWorkRemote                       How often do you work remotely?\nWorkWeekHrs     On average, how many hours per week do you work?\nYearsCode      Including any education, how many years have y...\nYearsCodePro   How many years have you coded professionally (...\n\n[85 rows x 1 columns]",
      "text/html": "<div>\n<style scoped>\n    .dataframe tbody tr th:only-of-type {\n        vertical-align: middle;\n    }\n\n    .dataframe tbody tr th {\n        vertical-align: top;\n    }\n\n    .dataframe thead th {\n        text-align: right;\n    }\n</style>\n<table border=\"1\" class=\"dataframe\">\n  <thead>\n    <tr style=\"text-align: right;\">\n      <th></th>\n      <th>QuestionText</th>\n    </tr>\n    <tr>\n      <th>Column</th>\n      <th></th>\n    </tr>\n  </thead>\n  <tbody>\n    <tr>\n      <th>Age</th>\n      <td>What is your age (in years)? If you prefer not...</td>\n    </tr>\n    <tr>\n      <th>Age1stCode</th>\n      <td>At what age did you write your first line of c...</td>\n    </tr>\n    <tr>\n      <th>BetterLife</th>\n      <td>Do you think people born today will have a bet...</td>\n    </tr>\n    <tr>\n      <th>BlockchainIs</th>\n      <td>Blockchain / cryptocurrency technology is prim...</td>\n    </tr>\n    <tr>\n      <th>BlockchainOrg</th>\n      <td>How is your organization thinking about or imp...</td>\n    </tr>\n    <tr>\n      <th>...</th>\n      <td>...</td>\n    </tr>\n    <tr>\n      <th>WorkPlan</th>\n      <td>How structured or planned is your work?</td>\n    </tr>\n    <tr>\n      <th>WorkRemote</th>\n      <td>How often do you work remotely?</td>\n    </tr>\n    <tr>\n      <th>WorkWeekHrs</th>\n      <td>On average, how many hours per week do you work?</td>\n    </tr>\n    <tr>\n      <th>YearsCode</th>\n      <td>Including any education, how many years have y...</td>\n    </tr>\n    <tr>\n      <th>YearsCodePro</th>\n      <td>How many years have you coded professionally (...</td>\n    </tr>\n  </tbody>\n</table>\n<p>85 rows × 1 columns</p>\n</div>"
     },
     "metadata": {},
     "execution_count": 7
    }
   ],
   "source": [
    "# Order schema\n",
    "dt_schema.sort_index(inplace=True)\n",
    "dt_schema"
   ]
  },
  {
   "cell_type": "code",
   "execution_count": 8,
   "metadata": {},
   "outputs": [
    {
     "output_type": "execute_result",
     "data": {
      "text/plain": "1948"
     },
     "metadata": {},
     "execution_count": 8
    }
   ],
   "source": [
    "# Create a dataset filter with Brazilian responses\n",
    "brazil = (dt['Country'] == 'Brazil')\n",
    "df_brazil = dt.loc[brazil]\n",
    "len(df_brazil)"
   ]
  },
  {
   "cell_type": "code",
   "execution_count": 9,
   "metadata": {},
   "outputs": [
    {
     "output_type": "execute_result",
     "data": {
      "text/plain": "60000.0      1250\n100000.0     1181\n50000.0      1151\n80000.0      1068\n70000.0      1009\n             ... \n6750000.0       1\n26367.0         1\n4100000.0       1\n9087.0          1\n98300.0         1\nName: CompTotal, Length: 4198, dtype: int64"
     },
     "metadata": {},
     "execution_count": 9
    }
   ],
   "source": [
    "dt['CompTotal'].value_counts()"
   ]
  },
  {
   "cell_type": "code",
   "execution_count": 10,
   "metadata": {},
   "outputs": [
    {
     "output_type": "stream",
     "name": "stdout",
     "text": "19 88848\n"
    }
   ],
   "source": [
    "bi = df_brazil.index\n",
    "print(min(bi), max(bi))"
   ]
  },
  {
   "cell_type": "code",
   "execution_count": 11,
   "metadata": {},
   "outputs": [
    {
     "output_type": "execute_result",
     "data": {
      "text/plain": "                                                   MainBranch Hobbyist  \\\nRespondent                                                               \n1                      I am a student who is learning to code      Yes   \n2                      I am a student who is learning to code       No   \n3           I am not primarily a developer, but I write co...      Yes   \n4                              I am a developer by profession       No   \n5                              I am a developer by profession      Yes   \n...                                                       ...      ...   \n346                    I am a student who is learning to code      Yes   \n347                            I am a developer by profession      Yes   \n348                            I am a developer by profession      Yes   \n349         I am not primarily a developer, but I write co...       No   \n350                            I am a developer by profession      Yes   \n\n                                                  OpenSourcer  \\\nRespondent                                                      \n1                                                       Never   \n2                                     Less than once per year   \n3                                                       Never   \n4                                                       Never   \n5                                  Once a month or more often   \n...                                                       ...   \n346         Less than once a month but more than once per ...   \n347                                                     Never   \n348                                   Less than once per year   \n349                                   Less than once per year   \n350         Less than once a month but more than once per ...   \n\n                                                   OpenSource  \\\nRespondent                                                      \n1           The quality of OSS and closed source software ...   \n2           The quality of OSS and closed source software ...   \n3           The quality of OSS and closed source software ...   \n4           The quality of OSS and closed source software ...   \n5           OSS is, on average, of HIGHER quality than pro...   \n...                                                       ...   \n346         The quality of OSS and closed source software ...   \n347         OSS is, on average, of HIGHER quality than pro...   \n348         OSS is, on average, of LOWER quality than prop...   \n349         The quality of OSS and closed source software ...   \n350         OSS is, on average, of HIGHER quality than pro...   \n\n                                                   Employment  \nRespondent                                                     \n1                      Not employed, and not looking for work  \n2                          Not employed, but looking for work  \n3                                          Employed full-time  \n4                                          Employed full-time  \n5                                          Employed full-time  \n...                                                       ...  \n346                        Not employed, but looking for work  \n347                                        Employed full-time  \n348         Independent contractor, freelancer, or self-em...  \n349                                        Employed full-time  \n350                        Not employed, but looking for work  \n\n[350 rows x 5 columns]",
      "text/html": "<div>\n<style scoped>\n    .dataframe tbody tr th:only-of-type {\n        vertical-align: middle;\n    }\n\n    .dataframe tbody tr th {\n        vertical-align: top;\n    }\n\n    .dataframe thead th {\n        text-align: right;\n    }\n</style>\n<table border=\"1\" class=\"dataframe\">\n  <thead>\n    <tr style=\"text-align: right;\">\n      <th></th>\n      <th>MainBranch</th>\n      <th>Hobbyist</th>\n      <th>OpenSourcer</th>\n      <th>OpenSource</th>\n      <th>Employment</th>\n    </tr>\n    <tr>\n      <th>Respondent</th>\n      <th></th>\n      <th></th>\n      <th></th>\n      <th></th>\n      <th></th>\n    </tr>\n  </thead>\n  <tbody>\n    <tr>\n      <th>1</th>\n      <td>I am a student who is learning to code</td>\n      <td>Yes</td>\n      <td>Never</td>\n      <td>The quality of OSS and closed source software ...</td>\n      <td>Not employed, and not looking for work</td>\n    </tr>\n    <tr>\n      <th>2</th>\n      <td>I am a student who is learning to code</td>\n      <td>No</td>\n      <td>Less than once per year</td>\n      <td>The quality of OSS and closed source software ...</td>\n      <td>Not employed, but looking for work</td>\n    </tr>\n    <tr>\n      <th>3</th>\n      <td>I am not primarily a developer, but I write co...</td>\n      <td>Yes</td>\n      <td>Never</td>\n      <td>The quality of OSS and closed source software ...</td>\n      <td>Employed full-time</td>\n    </tr>\n    <tr>\n      <th>4</th>\n      <td>I am a developer by profession</td>\n      <td>No</td>\n      <td>Never</td>\n      <td>The quality of OSS and closed source software ...</td>\n      <td>Employed full-time</td>\n    </tr>\n    <tr>\n      <th>5</th>\n      <td>I am a developer by profession</td>\n      <td>Yes</td>\n      <td>Once a month or more often</td>\n      <td>OSS is, on average, of HIGHER quality than pro...</td>\n      <td>Employed full-time</td>\n    </tr>\n    <tr>\n      <th>...</th>\n      <td>...</td>\n      <td>...</td>\n      <td>...</td>\n      <td>...</td>\n      <td>...</td>\n    </tr>\n    <tr>\n      <th>346</th>\n      <td>I am a student who is learning to code</td>\n      <td>Yes</td>\n      <td>Less than once a month but more than once per ...</td>\n      <td>The quality of OSS and closed source software ...</td>\n      <td>Not employed, but looking for work</td>\n    </tr>\n    <tr>\n      <th>347</th>\n      <td>I am a developer by profession</td>\n      <td>Yes</td>\n      <td>Never</td>\n      <td>OSS is, on average, of HIGHER quality than pro...</td>\n      <td>Employed full-time</td>\n    </tr>\n    <tr>\n      <th>348</th>\n      <td>I am a developer by profession</td>\n      <td>Yes</td>\n      <td>Less than once per year</td>\n      <td>OSS is, on average, of LOWER quality than prop...</td>\n      <td>Independent contractor, freelancer, or self-em...</td>\n    </tr>\n    <tr>\n      <th>349</th>\n      <td>I am not primarily a developer, but I write co...</td>\n      <td>No</td>\n      <td>Less than once per year</td>\n      <td>The quality of OSS and closed source software ...</td>\n      <td>Employed full-time</td>\n    </tr>\n    <tr>\n      <th>350</th>\n      <td>I am a developer by profession</td>\n      <td>Yes</td>\n      <td>Less than once a month but more than once per ...</td>\n      <td>OSS is, on average, of HIGHER quality than pro...</td>\n      <td>Not employed, but looking for work</td>\n    </tr>\n  </tbody>\n</table>\n<p>350 rows × 5 columns</p>\n</div>"
     },
     "metadata": {},
     "execution_count": 11
    }
   ],
   "source": [
    "dt.loc[min(dt.index):350, 'MainBranch':'Employment']"
   ]
  },
  {
   "cell_type": "code",
   "execution_count": 12,
   "metadata": {},
   "outputs": [
    {
     "output_type": "stream",
     "name": "stdout",
     "text": "Salary median 4773.916666666667\n"
    }
   ],
   "source": [
    "# Filters\n",
    "\n",
    "salary_median = dt['ConvertedComp'].median()\n",
    "print('Salary median', salary_median / 12)\n",
    "\n",
    "high_salary_filter = (dt['ConvertedComp'] >= salary_median)\n",
    "\n",
    "# begginers = (df_brazil['YearsCode'].astype(int) <= 3)"
   ]
  },
  {
   "cell_type": "code",
   "execution_count": 13,
   "metadata": {},
   "outputs": [],
   "source": [
    "def print_by_filter(_filter):\n",
    "    return dt.loc[_filter, \n",
    "        [\n",
    "            'MainBranch', \n",
    "            'Employment',\n",
    "            'Country', \n",
    "            'YearsCode',             \n",
    "            'Age1stCode', \n",
    "            'Gender',\n",
    "            'CareerSat', \n",
    "            'ConvertedComp', \n",
    "            'CompTotal', \n",
    "            'LanguageWorkedWith'\n",
    "        ]\n",
    "    ]"
   ]
  },
  {
   "cell_type": "code",
   "execution_count": 14,
   "metadata": {},
   "outputs": [
    {
     "output_type": "execute_result",
     "data": {
      "text/plain": "                                MainBranch  \\\nRespondent                                   \n6002        I am a developer by profession   \n17280       I am a developer by profession   \n17285       I am a developer by profession   \n54848       I am a developer by profession   \n17452       I am a developer by profession   \n...                                    ...   \n83604       I am a developer by profession   \n19335       I am a developer by profession   \n19344       I am a developer by profession   \n83723       I am a developer by profession   \n80200       I am a developer by profession   \n\n                                                   Employment        Country  \\\nRespondent                                                                     \n6002                                       Employed full-time        Germany   \n17280                                      Employed full-time        Germany   \n17285       Independent contractor, freelancer, or self-em...       Portugal   \n54848                                      Employed full-time       Portugal   \n17452                                      Employed full-time        Germany   \n...                                                       ...            ...   \n83604                                      Employed full-time  United States   \n19335                                      Employed full-time  United States   \n19344                                      Employed full-time  United States   \n83723                                      Employed full-time  United States   \n80200                                      Employed full-time    Netherlands   \n\n           YearsCode Age1stCode Gender              CareerSat  ConvertedComp  \\\nRespondent                                                                     \n6002               5         16    Man         Very satisfied        57287.0   \n17280             19         15    Man     Slightly satisfied        57287.0   \n17285             16         17    Man     Slightly satisfied        57287.0   \n54848             18         17    Man     Slightly satisfied        57287.0   \n17452             13         15    Man  Slightly dissatisfied        57287.0   \n...              ...        ...    ...                    ...            ...   \n83604             18         13    Man         Very satisfied      2000000.0   \n19335              5         19    Man         Very satisfied      2000000.0   \n19344              1         14    NaN         Very satisfied      2000000.0   \n83723              5         10    Man      Very dissatisfied      2000000.0   \n80200              8         17  Woman         Very satisfied      2000000.0   \n\n            CompTotal                                 LanguageWorkedWith  \nRespondent                                                                \n6002          50000.0                              C++;HTML/CSS;Java;SQL  \n17280         50000.0                   HTML/CSS;Java;JavaScript;PHP;SQL  \n17285         50000.0                                               Ruby  \n54848         50000.0                          C#;Java;JavaScript;Kotlin  \n17452         50000.0  C#;HTML/CSS;Java;JavaScript;Python;SQL;TypeScript  \n...               ...                                                ...  \n83604        130000.0  Bash/Shell/PowerShell;C#;HTML/CSS;Java;Python;...  \n19335        125000.0  Bash/Shell/PowerShell;Go;HTML/CSS;Objective-C;...  \n19344         43000.0  Bash/Shell/PowerShell;HTML/CSS;JavaScript;Pyth...  \n83723         70000.0                  C#;HTML/CSS;JavaScript;Python;SQL  \n80200        120000.0                                  Objective-C;Swift  \n\n[27946 rows x 10 columns]",
      "text/html": "<div>\n<style scoped>\n    .dataframe tbody tr th:only-of-type {\n        vertical-align: middle;\n    }\n\n    .dataframe tbody tr th {\n        vertical-align: top;\n    }\n\n    .dataframe thead th {\n        text-align: right;\n    }\n</style>\n<table border=\"1\" class=\"dataframe\">\n  <thead>\n    <tr style=\"text-align: right;\">\n      <th></th>\n      <th>MainBranch</th>\n      <th>Employment</th>\n      <th>Country</th>\n      <th>YearsCode</th>\n      <th>Age1stCode</th>\n      <th>Gender</th>\n      <th>CareerSat</th>\n      <th>ConvertedComp</th>\n      <th>CompTotal</th>\n      <th>LanguageWorkedWith</th>\n    </tr>\n    <tr>\n      <th>Respondent</th>\n      <th></th>\n      <th></th>\n      <th></th>\n      <th></th>\n      <th></th>\n      <th></th>\n      <th></th>\n      <th></th>\n      <th></th>\n      <th></th>\n    </tr>\n  </thead>\n  <tbody>\n    <tr>\n      <th>6002</th>\n      <td>I am a developer by profession</td>\n      <td>Employed full-time</td>\n      <td>Germany</td>\n      <td>5</td>\n      <td>16</td>\n      <td>Man</td>\n      <td>Very satisfied</td>\n      <td>57287.0</td>\n      <td>50000.0</td>\n      <td>C++;HTML/CSS;Java;SQL</td>\n    </tr>\n    <tr>\n      <th>17280</th>\n      <td>I am a developer by profession</td>\n      <td>Employed full-time</td>\n      <td>Germany</td>\n      <td>19</td>\n      <td>15</td>\n      <td>Man</td>\n      <td>Slightly satisfied</td>\n      <td>57287.0</td>\n      <td>50000.0</td>\n      <td>HTML/CSS;Java;JavaScript;PHP;SQL</td>\n    </tr>\n    <tr>\n      <th>17285</th>\n      <td>I am a developer by profession</td>\n      <td>Independent contractor, freelancer, or self-em...</td>\n      <td>Portugal</td>\n      <td>16</td>\n      <td>17</td>\n      <td>Man</td>\n      <td>Slightly satisfied</td>\n      <td>57287.0</td>\n      <td>50000.0</td>\n      <td>Ruby</td>\n    </tr>\n    <tr>\n      <th>54848</th>\n      <td>I am a developer by profession</td>\n      <td>Employed full-time</td>\n      <td>Portugal</td>\n      <td>18</td>\n      <td>17</td>\n      <td>Man</td>\n      <td>Slightly satisfied</td>\n      <td>57287.0</td>\n      <td>50000.0</td>\n      <td>C#;Java;JavaScript;Kotlin</td>\n    </tr>\n    <tr>\n      <th>17452</th>\n      <td>I am a developer by profession</td>\n      <td>Employed full-time</td>\n      <td>Germany</td>\n      <td>13</td>\n      <td>15</td>\n      <td>Man</td>\n      <td>Slightly dissatisfied</td>\n      <td>57287.0</td>\n      <td>50000.0</td>\n      <td>C#;HTML/CSS;Java;JavaScript;Python;SQL;TypeScript</td>\n    </tr>\n    <tr>\n      <th>...</th>\n      <td>...</td>\n      <td>...</td>\n      <td>...</td>\n      <td>...</td>\n      <td>...</td>\n      <td>...</td>\n      <td>...</td>\n      <td>...</td>\n      <td>...</td>\n      <td>...</td>\n    </tr>\n    <tr>\n      <th>83604</th>\n      <td>I am a developer by profession</td>\n      <td>Employed full-time</td>\n      <td>United States</td>\n      <td>18</td>\n      <td>13</td>\n      <td>Man</td>\n      <td>Very satisfied</td>\n      <td>2000000.0</td>\n      <td>130000.0</td>\n      <td>Bash/Shell/PowerShell;C#;HTML/CSS;Java;Python;...</td>\n    </tr>\n    <tr>\n      <th>19335</th>\n      <td>I am a developer by profession</td>\n      <td>Employed full-time</td>\n      <td>United States</td>\n      <td>5</td>\n      <td>19</td>\n      <td>Man</td>\n      <td>Very satisfied</td>\n      <td>2000000.0</td>\n      <td>125000.0</td>\n      <td>Bash/Shell/PowerShell;Go;HTML/CSS;Objective-C;...</td>\n    </tr>\n    <tr>\n      <th>19344</th>\n      <td>I am a developer by profession</td>\n      <td>Employed full-time</td>\n      <td>United States</td>\n      <td>1</td>\n      <td>14</td>\n      <td>NaN</td>\n      <td>Very satisfied</td>\n      <td>2000000.0</td>\n      <td>43000.0</td>\n      <td>Bash/Shell/PowerShell;HTML/CSS;JavaScript;Pyth...</td>\n    </tr>\n    <tr>\n      <th>83723</th>\n      <td>I am a developer by profession</td>\n      <td>Employed full-time</td>\n      <td>United States</td>\n      <td>5</td>\n      <td>10</td>\n      <td>Man</td>\n      <td>Very dissatisfied</td>\n      <td>2000000.0</td>\n      <td>70000.0</td>\n      <td>C#;HTML/CSS;JavaScript;Python;SQL</td>\n    </tr>\n    <tr>\n      <th>80200</th>\n      <td>I am a developer by profession</td>\n      <td>Employed full-time</td>\n      <td>Netherlands</td>\n      <td>8</td>\n      <td>17</td>\n      <td>Woman</td>\n      <td>Very satisfied</td>\n      <td>2000000.0</td>\n      <td>120000.0</td>\n      <td>Objective-C;Swift</td>\n    </tr>\n  </tbody>\n</table>\n<p>27946 rows × 10 columns</p>\n</div>"
     },
     "metadata": {},
     "execution_count": 14
    }
   ],
   "source": [
    "# def convert_salary_to_br(salary):\n",
    "#     return salary / 3.655588 # USD salaries using the exchange rate on 2019-02-01\n",
    "# df_brazil.apply(convert_salary_to_br, 'ConvertedComp')\n",
    "\n",
    "print_by_filter(high_salary_filter).sort_values(by='ConvertedComp', ascending=True)"
   ]
  },
  {
   "cell_type": "code",
   "execution_count": 15,
   "metadata": {},
   "outputs": [
    {
     "output_type": "execute_result",
     "data": {
      "text/plain": "                                        MainBranch  \\\nRespondent                                           \n1           I am a student who is learning to code   \n2           I am a student who is learning to code   \n4                   I am a developer by profession   \n5                   I am a developer by profession   \n8                      I code primarily as a hobby   \n...                                            ...   \n88874               I am a developer by profession   \n88876               I am a developer by profession   \n88879               I am a developer by profession   \n88881               I am a developer by profession   \n88882               I am a developer by profession   \n\n                                        Employment                 Country  \\\nRespondent                                                                   \n1           Not employed, and not looking for work          United Kingdom   \n2               Not employed, but looking for work  Bosnia and Herzegovina   \n4                               Employed full-time           United States   \n5                               Employed full-time                 Ukraine   \n8               Not employed, but looking for work                   India   \n...                                            ...                     ...   \n88874                           Employed full-time           United States   \n88876                           Employed full-time           United States   \n88879                           Employed full-time                 Finland   \n88881                           Employed full-time                 Austria   \n88882                           Employed full-time             Netherlands   \n\n           YearsCode Age1stCode Gender                           CareerSat  \\\nRespondent                                                                   \n1                  4         10    Man                                 NaN   \n2                NaN         17    Man                                 NaN   \n4                  3         16    Man                      Very satisfied   \n5                 16         14    Man                   Very dissatisfied   \n8                  8         16    Man                                 NaN   \n...              ...        ...    ...                                 ...   \n88874              7         19    Man                      Very satisfied   \n88876              8         15    Man                      Very satisfied   \n88879             17         16    Man                  Slightly satisfied   \n88881             18         17    Man  Neither satisfied nor dissatisfied   \n88882             10         15    Man               Slightly dissatisfied   \n\n            ConvertedComp  CompTotal  \\\nRespondent                             \n1                     NaN        NaN   \n2                     NaN        NaN   \n4                 61000.0    61000.0   \n5                     NaN        NaN   \n8                     NaN        NaN   \n...                   ...        ...   \n88874           2000000.0   185000.0   \n88876            180000.0   180000.0   \n88879             82488.0     6000.0   \n88881             68745.0    60000.0   \n88882            588012.0    42768.0   \n\n                                           LanguageWorkedWith  \nRespondent                                                     \n1                             HTML/CSS;Java;JavaScript;Python  \n2                                         C++;HTML/CSS;Python  \n4                                         C;C++;C#;Python;SQL  \n5                 C++;HTML/CSS;Java;JavaScript;Python;SQL;VBA  \n8           Bash/Shell/PowerShell;C;C++;HTML/CSS;Java;Java...  \n...                                                       ...  \n88874                                    C++;Python;Scala;SQL  \n88876       Bash/Shell/PowerShell;C#;HTML/CSS;Java;Python;...  \n88879                        Bash/Shell/PowerShell;C++;Python  \n88881       Bash/Shell/PowerShell;Go;HTML/CSS;Java;JavaScr...  \n88882                  C#;HTML/CSS;Java;JavaScript;PHP;Python  \n\n[36443 rows x 10 columns]",
      "text/html": "<div>\n<style scoped>\n    .dataframe tbody tr th:only-of-type {\n        vertical-align: middle;\n    }\n\n    .dataframe tbody tr th {\n        vertical-align: top;\n    }\n\n    .dataframe thead th {\n        text-align: right;\n    }\n</style>\n<table border=\"1\" class=\"dataframe\">\n  <thead>\n    <tr style=\"text-align: right;\">\n      <th></th>\n      <th>MainBranch</th>\n      <th>Employment</th>\n      <th>Country</th>\n      <th>YearsCode</th>\n      <th>Age1stCode</th>\n      <th>Gender</th>\n      <th>CareerSat</th>\n      <th>ConvertedComp</th>\n      <th>CompTotal</th>\n      <th>LanguageWorkedWith</th>\n    </tr>\n    <tr>\n      <th>Respondent</th>\n      <th></th>\n      <th></th>\n      <th></th>\n      <th></th>\n      <th></th>\n      <th></th>\n      <th></th>\n      <th></th>\n      <th></th>\n      <th></th>\n    </tr>\n  </thead>\n  <tbody>\n    <tr>\n      <th>1</th>\n      <td>I am a student who is learning to code</td>\n      <td>Not employed, and not looking for work</td>\n      <td>United Kingdom</td>\n      <td>4</td>\n      <td>10</td>\n      <td>Man</td>\n      <td>NaN</td>\n      <td>NaN</td>\n      <td>NaN</td>\n      <td>HTML/CSS;Java;JavaScript;Python</td>\n    </tr>\n    <tr>\n      <th>2</th>\n      <td>I am a student who is learning to code</td>\n      <td>Not employed, but looking for work</td>\n      <td>Bosnia and Herzegovina</td>\n      <td>NaN</td>\n      <td>17</td>\n      <td>Man</td>\n      <td>NaN</td>\n      <td>NaN</td>\n      <td>NaN</td>\n      <td>C++;HTML/CSS;Python</td>\n    </tr>\n    <tr>\n      <th>4</th>\n      <td>I am a developer by profession</td>\n      <td>Employed full-time</td>\n      <td>United States</td>\n      <td>3</td>\n      <td>16</td>\n      <td>Man</td>\n      <td>Very satisfied</td>\n      <td>61000.0</td>\n      <td>61000.0</td>\n      <td>C;C++;C#;Python;SQL</td>\n    </tr>\n    <tr>\n      <th>5</th>\n      <td>I am a developer by profession</td>\n      <td>Employed full-time</td>\n      <td>Ukraine</td>\n      <td>16</td>\n      <td>14</td>\n      <td>Man</td>\n      <td>Very dissatisfied</td>\n      <td>NaN</td>\n      <td>NaN</td>\n      <td>C++;HTML/CSS;Java;JavaScript;Python;SQL;VBA</td>\n    </tr>\n    <tr>\n      <th>8</th>\n      <td>I code primarily as a hobby</td>\n      <td>Not employed, but looking for work</td>\n      <td>India</td>\n      <td>8</td>\n      <td>16</td>\n      <td>Man</td>\n      <td>NaN</td>\n      <td>NaN</td>\n      <td>NaN</td>\n      <td>Bash/Shell/PowerShell;C;C++;HTML/CSS;Java;Java...</td>\n    </tr>\n    <tr>\n      <th>...</th>\n      <td>...</td>\n      <td>...</td>\n      <td>...</td>\n      <td>...</td>\n      <td>...</td>\n      <td>...</td>\n      <td>...</td>\n      <td>...</td>\n      <td>...</td>\n      <td>...</td>\n    </tr>\n    <tr>\n      <th>88874</th>\n      <td>I am a developer by profession</td>\n      <td>Employed full-time</td>\n      <td>United States</td>\n      <td>7</td>\n      <td>19</td>\n      <td>Man</td>\n      <td>Very satisfied</td>\n      <td>2000000.0</td>\n      <td>185000.0</td>\n      <td>C++;Python;Scala;SQL</td>\n    </tr>\n    <tr>\n      <th>88876</th>\n      <td>I am a developer by profession</td>\n      <td>Employed full-time</td>\n      <td>United States</td>\n      <td>8</td>\n      <td>15</td>\n      <td>Man</td>\n      <td>Very satisfied</td>\n      <td>180000.0</td>\n      <td>180000.0</td>\n      <td>Bash/Shell/PowerShell;C#;HTML/CSS;Java;Python;...</td>\n    </tr>\n    <tr>\n      <th>88879</th>\n      <td>I am a developer by profession</td>\n      <td>Employed full-time</td>\n      <td>Finland</td>\n      <td>17</td>\n      <td>16</td>\n      <td>Man</td>\n      <td>Slightly satisfied</td>\n      <td>82488.0</td>\n      <td>6000.0</td>\n      <td>Bash/Shell/PowerShell;C++;Python</td>\n    </tr>\n    <tr>\n      <th>88881</th>\n      <td>I am a developer by profession</td>\n      <td>Employed full-time</td>\n      <td>Austria</td>\n      <td>18</td>\n      <td>17</td>\n      <td>Man</td>\n      <td>Neither satisfied nor dissatisfied</td>\n      <td>68745.0</td>\n      <td>60000.0</td>\n      <td>Bash/Shell/PowerShell;Go;HTML/CSS;Java;JavaScr...</td>\n    </tr>\n    <tr>\n      <th>88882</th>\n      <td>I am a developer by profession</td>\n      <td>Employed full-time</td>\n      <td>Netherlands</td>\n      <td>10</td>\n      <td>15</td>\n      <td>Man</td>\n      <td>Slightly dissatisfied</td>\n      <td>588012.0</td>\n      <td>42768.0</td>\n      <td>C#;HTML/CSS;Java;JavaScript;PHP;Python</td>\n    </tr>\n  </tbody>\n</table>\n<p>36443 rows × 10 columns</p>\n</div>"
     },
     "metadata": {},
     "execution_count": 15
    }
   ],
   "source": [
    "# Filter by python languages \n",
    "python_filter = dt['LanguageWorkedWith'].str.contains('Python', na=False)\n",
    "dt.loc[python_filter, \n",
    " [\n",
    "            'MainBranch', \n",
    "            'Employment',\n",
    "            'Country', \n",
    "            'YearsCode',             \n",
    "            'Age1stCode', \n",
    "            'Gender',\n",
    "            'CareerSat', \n",
    "            'ConvertedComp', \n",
    "            'CompTotal', \n",
    "            'LanguageWorkedWith'\n",
    "        ]\n",
    "]"
   ]
  },
  {
   "cell_type": "code",
   "execution_count": 16,
   "metadata": {},
   "outputs": [
    {
     "output_type": "execute_result",
     "data": {
      "text/plain": "HTML/CSS;JavaScript;PHP;SQL                                            1483\nC#;HTML/CSS;JavaScript;SQL                                             1414\nHTML/CSS;JavaScript                                                    1247\nC#;HTML/CSS;JavaScript;SQL;TypeScript                                   990\nJava                                                                    934\n                                                                       ... \nC#;HTML/CSS;JavaScript;PHP;Python;Ruby;SQL;TypeScript;VBA                 1\nBash/Shell/PowerShell;C;C++;C#;Dart;HTML/CSS;JavaScript;Python;Ruby       1\nC#;F#;HTML/CSS;Java;JavaScript;PHP;R;SQL;TypeScript                       1\nHTML/CSS;Java;JavaScript;Objective-C;PHP;Python;Scala;SQL                 1\nBash/Shell/PowerShell;C;C++;JavaScript;Objective-C;TypeScript             1\nName: LanguageWorkedWith, Length: 20098, dtype: int64"
     },
     "metadata": {},
     "execution_count": 16
    }
   ],
   "source": [
    "# View all used languages and save a csv file with them\n",
    "all_languages_filter = dt['LanguageWorkedWith'].isnull()\n",
    "all_languages = dt.loc[~all_languages_filter, 'LanguageWorkedWith']\n",
    "pd.DataFrame(all_languages.to_numpy()).to_csv('data/data-all-languages.csv', index=False, header=False)\n",
    "\n",
    "all_languages.value_counts()"
   ]
  },
  {
   "cell_type": "code",
   "execution_count": 19,
   "metadata": {},
   "outputs": [
    {
     "output_type": "execute_result",
     "data": {
      "text/plain": "                                        MainBranch Hobbyist OpenSourcer  \\\nRespondent                                                                \n1           I am a student who is learning to code      Yes       Never   \n\n                                                   OpenSource  \\\nRespondent                                                      \n1           The quality of OSS and closed source software ...   \n\n                                        Employment         Country Student  \\\nRespondent                                                                   \n1           Not employed, and not looking for work  United Kingdom      No   \n\n                              EdLevel UndergradMajor  \\\nRespondent                                             \n1           Primary/elementary school            NaN   \n\n                                                     EduOther OrgSize DevType  \\\nRespondent                                                                      \n1           Taught yourself a new language, framework, or ...     NaN     NaN   \n\n           YearsCode Age1stCode YearsCodePro CareerSat JobSat MgrIdiot  \\\nRespondent                                                               \n1                  4         10          NaN       NaN    NaN      NaN   \n\n           MgrMoney MgrWant JobSeek LastHireDate LastInt FizzBuzz JobFactors  \\\nRespondent                                                                     \n1               NaN     NaN     NaN          NaN     NaN      NaN        NaN   \n\n           ResumeUpdate CurrencySymbol CurrencyDesc  CompTotal CompFreq  \\\nRespondent                                                                \n1                   NaN            NaN          NaN        NaN      NaN   \n\n            SalaryUSD  WorkWeekHrs WorkPlan WorkChallenge WorkRemote WorkLoc  \\\nRespondent                                                                     \n1                 NaN          NaN      NaN           NaN        NaN     NaN   \n\n           ImpSyn CodeRev  CodeRevHrs UnitTests PurchaseHow PurchaseWhat  \\\nRespondent                                                                 \n1             NaN     NaN         NaN       NaN         NaN          NaN   \n\n                         LanguageWorkedWith  \\\nRespondent                                    \n1           HTML/CSS;Java;JavaScript;Python   \n\n                                     LanguageDesireNextYear  \\\nRespondent                                                    \n1           C;C++;C#;Go;HTML/CSS;Java;JavaScript;Python;SQL   \n\n           DatabaseWorkedWith DatabaseDesireNextYear PlatformWorkedWith  \\\nRespondent                                                                \n1                      SQLite                  MySQL      MacOS;Windows   \n\n             PlatformDesireNextYear WebFrameWorkedWith WebFrameDesireNextYear  \\\nRespondent                                                                      \n1           Android;Arduino;Windows       Django;Flask           Flask;jQuery   \n\n           MiscTechWorkedWith MiscTechDesireNextYear  \\\nRespondent                                             \n1                     Node.js                Node.js   \n\n                            DevEnviron    OpSys               Containers  \\\nRespondent                                                                 \n1           IntelliJ;Notepad++;PyCharm  Windows  I do not use containers   \n\n           BlockchainOrg BlockchainIs BetterLife  \\\nRespondent                                         \n1                    NaN          NaN        Yes   \n\n                                            ITperson OffOn SocialMedia  \\\nRespondent                                                               \n1           Fortunately, someone else has that title   Yes     Twitter   \n\n           Extraversion ScreenName SOVisit1st  \\\nRespondent                                      \n1                Online   Username       2017   \n\n                                SOVisitFreq  \\\nRespondent                                    \n1           A few times per month or weekly   \n\n                                                    SOVisitTo  \\\nRespondent                                                      \n1           Find answers to specific questions;Learn how t...   \n\n                  SOFindAnswer                     SOTimeSaved  SOHowMuchTime  \\\nRespondent                                                                      \n1           3-5 times per week  Stack Overflow was much faster  31-60 minutes   \n\n           SOAccount SOPartFreq  \\\nRespondent                        \n1                 No        NaN   \n\n                                                       SOJobs  \\\nRespondent                                                      \n1           No, I didn't know that Stack Overflow had a jo...   \n\n                                       EntTeams   SOComm  \\\nRespondent                                                 \n1           No, and I don't know what those are  Neutral   \n\n                                      WelcomeChange  \\\nRespondent                                            \n1           Just as welcome now as I felt last year   \n\n                                                 SONewContent   Age Gender  \\\nRespondent                                                                   \n1           Tech articles written by other developers;Indu...  14.0    Man   \n\n           Trans                Sexuality Ethnicity Dependents  \\\nRespondent                                                       \n1             No  Straight / Heterosexual       NaN         No   \n\n                     SurveyLength                  SurveyEase  \nRespondent                                                     \n1           Appropriate in length  Neither easy nor difficult  ",
      "text/html": "<div>\n<style scoped>\n    .dataframe tbody tr th:only-of-type {\n        vertical-align: middle;\n    }\n\n    .dataframe tbody tr th {\n        vertical-align: top;\n    }\n\n    .dataframe thead th {\n        text-align: right;\n    }\n</style>\n<table border=\"1\" class=\"dataframe\">\n  <thead>\n    <tr style=\"text-align: right;\">\n      <th></th>\n      <th>MainBranch</th>\n      <th>Hobbyist</th>\n      <th>OpenSourcer</th>\n      <th>OpenSource</th>\n      <th>Employment</th>\n      <th>Country</th>\n      <th>Student</th>\n      <th>EdLevel</th>\n      <th>UndergradMajor</th>\n      <th>EduOther</th>\n      <th>OrgSize</th>\n      <th>DevType</th>\n      <th>YearsCode</th>\n      <th>Age1stCode</th>\n      <th>YearsCodePro</th>\n      <th>CareerSat</th>\n      <th>JobSat</th>\n      <th>MgrIdiot</th>\n      <th>MgrMoney</th>\n      <th>MgrWant</th>\n      <th>JobSeek</th>\n      <th>LastHireDate</th>\n      <th>LastInt</th>\n      <th>FizzBuzz</th>\n      <th>JobFactors</th>\n      <th>ResumeUpdate</th>\n      <th>CurrencySymbol</th>\n      <th>CurrencyDesc</th>\n      <th>CompTotal</th>\n      <th>CompFreq</th>\n      <th>SalaryUSD</th>\n      <th>WorkWeekHrs</th>\n      <th>WorkPlan</th>\n      <th>WorkChallenge</th>\n      <th>WorkRemote</th>\n      <th>WorkLoc</th>\n      <th>ImpSyn</th>\n      <th>CodeRev</th>\n      <th>CodeRevHrs</th>\n      <th>UnitTests</th>\n      <th>PurchaseHow</th>\n      <th>PurchaseWhat</th>\n      <th>LanguageWorkedWith</th>\n      <th>LanguageDesireNextYear</th>\n      <th>DatabaseWorkedWith</th>\n      <th>DatabaseDesireNextYear</th>\n      <th>PlatformWorkedWith</th>\n      <th>PlatformDesireNextYear</th>\n      <th>WebFrameWorkedWith</th>\n      <th>WebFrameDesireNextYear</th>\n      <th>MiscTechWorkedWith</th>\n      <th>MiscTechDesireNextYear</th>\n      <th>DevEnviron</th>\n      <th>OpSys</th>\n      <th>Containers</th>\n      <th>BlockchainOrg</th>\n      <th>BlockchainIs</th>\n      <th>BetterLife</th>\n      <th>ITperson</th>\n      <th>OffOn</th>\n      <th>SocialMedia</th>\n      <th>Extraversion</th>\n      <th>ScreenName</th>\n      <th>SOVisit1st</th>\n      <th>SOVisitFreq</th>\n      <th>SOVisitTo</th>\n      <th>SOFindAnswer</th>\n      <th>SOTimeSaved</th>\n      <th>SOHowMuchTime</th>\n      <th>SOAccount</th>\n      <th>SOPartFreq</th>\n      <th>SOJobs</th>\n      <th>EntTeams</th>\n      <th>SOComm</th>\n      <th>WelcomeChange</th>\n      <th>SONewContent</th>\n      <th>Age</th>\n      <th>Gender</th>\n      <th>Trans</th>\n      <th>Sexuality</th>\n      <th>Ethnicity</th>\n      <th>Dependents</th>\n      <th>SurveyLength</th>\n      <th>SurveyEase</th>\n    </tr>\n    <tr>\n      <th>Respondent</th>\n      <th></th>\n      <th></th>\n      <th></th>\n      <th></th>\n      <th></th>\n      <th></th>\n      <th></th>\n      <th></th>\n      <th></th>\n      <th></th>\n      <th></th>\n      <th></th>\n      <th></th>\n      <th></th>\n      <th></th>\n      <th></th>\n      <th></th>\n      <th></th>\n      <th></th>\n      <th></th>\n      <th></th>\n      <th></th>\n      <th></th>\n      <th></th>\n      <th></th>\n      <th></th>\n      <th></th>\n      <th></th>\n      <th></th>\n      <th></th>\n      <th></th>\n      <th></th>\n      <th></th>\n      <th></th>\n      <th></th>\n      <th></th>\n      <th></th>\n      <th></th>\n      <th></th>\n      <th></th>\n      <th></th>\n      <th></th>\n      <th></th>\n      <th></th>\n      <th></th>\n      <th></th>\n      <th></th>\n      <th></th>\n      <th></th>\n      <th></th>\n      <th></th>\n      <th></th>\n      <th></th>\n      <th></th>\n      <th></th>\n      <th></th>\n      <th></th>\n      <th></th>\n      <th></th>\n      <th></th>\n      <th></th>\n      <th></th>\n      <th></th>\n      <th></th>\n      <th></th>\n      <th></th>\n      <th></th>\n      <th></th>\n      <th></th>\n      <th></th>\n      <th></th>\n      <th></th>\n      <th></th>\n      <th></th>\n      <th></th>\n      <th></th>\n      <th></th>\n      <th></th>\n      <th></th>\n      <th></th>\n      <th></th>\n      <th></th>\n      <th></th>\n      <th></th>\n    </tr>\n  </thead>\n  <tbody>\n    <tr>\n      <th>1</th>\n      <td>I am a student who is learning to code</td>\n      <td>Yes</td>\n      <td>Never</td>\n      <td>The quality of OSS and closed source software ...</td>\n      <td>Not employed, and not looking for work</td>\n      <td>United Kingdom</td>\n      <td>No</td>\n      <td>Primary/elementary school</td>\n      <td>NaN</td>\n      <td>Taught yourself a new language, framework, or ...</td>\n      <td>NaN</td>\n      <td>NaN</td>\n      <td>4</td>\n      <td>10</td>\n      <td>NaN</td>\n      <td>NaN</td>\n      <td>NaN</td>\n      <td>NaN</td>\n      <td>NaN</td>\n      <td>NaN</td>\n      <td>NaN</td>\n      <td>NaN</td>\n      <td>NaN</td>\n      <td>NaN</td>\n      <td>NaN</td>\n      <td>NaN</td>\n      <td>NaN</td>\n      <td>NaN</td>\n      <td>NaN</td>\n      <td>NaN</td>\n      <td>NaN</td>\n      <td>NaN</td>\n      <td>NaN</td>\n      <td>NaN</td>\n      <td>NaN</td>\n      <td>NaN</td>\n      <td>NaN</td>\n      <td>NaN</td>\n      <td>NaN</td>\n      <td>NaN</td>\n      <td>NaN</td>\n      <td>NaN</td>\n      <td>HTML/CSS;Java;JavaScript;Python</td>\n      <td>C;C++;C#;Go;HTML/CSS;Java;JavaScript;Python;SQL</td>\n      <td>SQLite</td>\n      <td>MySQL</td>\n      <td>MacOS;Windows</td>\n      <td>Android;Arduino;Windows</td>\n      <td>Django;Flask</td>\n      <td>Flask;jQuery</td>\n      <td>Node.js</td>\n      <td>Node.js</td>\n      <td>IntelliJ;Notepad++;PyCharm</td>\n      <td>Windows</td>\n      <td>I do not use containers</td>\n      <td>NaN</td>\n      <td>NaN</td>\n      <td>Yes</td>\n      <td>Fortunately, someone else has that title</td>\n      <td>Yes</td>\n      <td>Twitter</td>\n      <td>Online</td>\n      <td>Username</td>\n      <td>2017</td>\n      <td>A few times per month or weekly</td>\n      <td>Find answers to specific questions;Learn how t...</td>\n      <td>3-5 times per week</td>\n      <td>Stack Overflow was much faster</td>\n      <td>31-60 minutes</td>\n      <td>No</td>\n      <td>NaN</td>\n      <td>No, I didn't know that Stack Overflow had a jo...</td>\n      <td>No, and I don't know what those are</td>\n      <td>Neutral</td>\n      <td>Just as welcome now as I felt last year</td>\n      <td>Tech articles written by other developers;Indu...</td>\n      <td>14.0</td>\n      <td>Man</td>\n      <td>No</td>\n      <td>Straight / Heterosexual</td>\n      <td>NaN</td>\n      <td>No</td>\n      <td>Appropriate in length</td>\n      <td>Neither easy nor difficult</td>\n    </tr>\n  </tbody>\n</table>\n</div>"
     },
     "metadata": {},
     "execution_count": 19
    }
   ],
   "source": [
    "# Rename salary column name\n",
    "dt.rename(columns={'ConvertedComp': 'SalaryUSD'}, inplace=True)\n",
    "dt.head(1)"
   ]
  },
  {
   "cell_type": "code",
   "execution_count": 25,
   "metadata": {},
   "outputs": [
    {
     "output_type": "execute_result",
     "data": {
      "text/plain": "Respondent\n1        Yes\n2         No\n3        Yes\n4         No\n5        Yes\n        ... \n88377    Yes\n88601     No\n88802     No\n88816     No\n88863    Yes\nName: Hobbyist, Length: 88883, dtype: object"
     },
     "metadata": {},
     "execution_count": 25
    }
   ],
   "source": [
    "# Transform series data with map\n",
    "dt['Hobbyist']"
   ]
  },
  {
   "cell_type": "code",
   "execution_count": 26,
   "metadata": {},
   "outputs": [
    {
     "output_type": "execute_result",
     "data": {
      "text/plain": "Respondent\n1         True\n2        False\n3         True\n4        False\n5         True\n         ...  \n88377     True\n88601    False\n88802    False\n88816    False\n88863     True\nName: Hobbyist, Length: 88883, dtype: bool"
     },
     "metadata": {},
     "execution_count": 26
    }
   ],
   "source": [
    "# Aplying the transformation\n",
    "dt['Hobbyist'] = dt['Hobbyist'].map({\n",
    "    'Yes': True,\n",
    "    'No': False\n",
    "})\n",
    "dt['Hobbyist']"
   ]
  }
 ],
 "metadata": {
  "language_info": {
   "codemirror_mode": {
    "name": "ipython",
    "version": 3
   },
   "file_extension": ".py",
   "mimetype": "text/x-python",
   "name": "python",
   "nbconvert_exporter": "python",
   "pygments_lexer": "ipython3",
   "version": "3.7.4-final"
  },
  "orig_nbformat": 2,
  "kernelspec": {
   "name": "python37464bitvenvvirtualenvdb9e7e45e58a412aa1d8a140187358c9",
   "display_name": "Python 3.7.4 64-bit ('.venv': virtualenv)"
  }
 },
 "nbformat": 4,
 "nbformat_minor": 2
}