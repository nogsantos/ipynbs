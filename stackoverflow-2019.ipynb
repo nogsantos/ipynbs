{
 "cells": [
  {
   "cell_type": "markdown",
   "metadata": {},
   "source": [
    "# Insights Stack Overflow Annual Developer Survey - 2019\n",
    "\n",
    "Download survey data at [Stack Overflow](https://insights.stackoverflow.com/survey)"
   ]
  },
  {
   "cell_type": "code",
   "execution_count": 1,
   "metadata": {},
   "outputs": [],
   "source": [
    "import pandas as pd\n",
    "import numpy as np\n",
    "from matplotlib import pyplot as plt\n",
    "\n",
    "plt.style.use(plt.style.available[9]) # Seaborn style"
   ]
  },
  {
   "cell_type": "code",
   "execution_count": 2,
   "metadata": {},
   "outputs": [],
   "source": [
    "dt = pd.read_csv('./data/survey_results_public.csv')\n",
    "dt_schema = pd.read_csv('./data/survey_results_schema.csv')\n",
    "pd.set_option('display.max_columns', dt.shape[0]) # Set dataframe visible columns"
   ]
  },
  {
   "cell_type": "code",
   "execution_count": 3,
   "metadata": {},
   "outputs": [
    {
     "output_type": "execute_result",
     "data": {
      "text/plain": "   Respondent                              MainBranch Hobbyist OpenSourcer  \\\n0           1  I am a student who is learning to code      Yes       Never   \n\n                                          OpenSource  \\\n0  The quality of OSS and closed source software ...   \n\n                               Employment         Country Student  \\\n0  Not employed, and not looking for work  United Kingdom      No   \n\n                     EdLevel UndergradMajor  \\\n0  Primary/elementary school            NaN   \n\n                                            EduOther OrgSize DevType  \\\n0  Taught yourself a new language, framework, or ...     NaN     NaN   \n\n  YearsCode Age1stCode YearsCodePro CareerSat JobSat MgrIdiot MgrMoney  \\\n0         4         10          NaN       NaN    NaN      NaN      NaN   \n\n  MgrWant JobSeek LastHireDate LastInt FizzBuzz JobFactors ResumeUpdate  \\\n0     NaN     NaN          NaN     NaN      NaN        NaN          NaN   \n\n  CurrencySymbol CurrencyDesc  CompTotal CompFreq  ConvertedComp  WorkWeekHrs  \\\n0            NaN          NaN        NaN      NaN            NaN          NaN   \n\n  WorkPlan WorkChallenge WorkRemote WorkLoc ImpSyn CodeRev  CodeRevHrs  \\\n0      NaN           NaN        NaN     NaN    NaN     NaN         NaN   \n\n  UnitTests PurchaseHow PurchaseWhat               LanguageWorkedWith  \\\n0       NaN         NaN          NaN  HTML/CSS;Java;JavaScript;Python   \n\n                            LanguageDesireNextYear DatabaseWorkedWith  \\\n0  C;C++;C#;Go;HTML/CSS;Java;JavaScript;Python;SQL             SQLite   \n\n  DatabaseDesireNextYear PlatformWorkedWith   PlatformDesireNextYear  \\\n0                  MySQL      MacOS;Windows  Android;Arduino;Windows   \n\n  WebFrameWorkedWith WebFrameDesireNextYear MiscTechWorkedWith  \\\n0       Django;Flask           Flask;jQuery            Node.js   \n\n  MiscTechDesireNextYear                  DevEnviron    OpSys  \\\n0                Node.js  IntelliJ;Notepad++;PyCharm  Windows   \n\n                Containers BlockchainOrg BlockchainIs BetterLife  \\\n0  I do not use containers           NaN          NaN        Yes   \n\n                                   ITperson OffOn SocialMedia Extraversion  \\\n0  Fortunately, someone else has that title   Yes     Twitter       Online   \n\n  ScreenName SOVisit1st                      SOVisitFreq  \\\n0   Username       2017  A few times per month or weekly   \n\n                                           SOVisitTo        SOFindAnswer  \\\n0  Find answers to specific questions;Learn how t...  3-5 times per week   \n\n                      SOTimeSaved  SOHowMuchTime SOAccount SOPartFreq  \\\n0  Stack Overflow was much faster  31-60 minutes        No        NaN   \n\n                                              SOJobs  \\\n0  No, I didn't know that Stack Overflow had a jo...   \n\n                              EntTeams   SOComm  \\\n0  No, and I don't know what those are  Neutral   \n\n                             WelcomeChange  \\\n0  Just as welcome now as I felt last year   \n\n                                        SONewContent   Age Gender Trans  \\\n0  Tech articles written by other developers;Indu...  14.0    Man    No   \n\n                 Sexuality Ethnicity Dependents           SurveyLength  \\\n0  Straight / Heterosexual       NaN         No  Appropriate in length   \n\n                   SurveyEase  \n0  Neither easy nor difficult  ",
      "text/html": "<div>\n<style scoped>\n    .dataframe tbody tr th:only-of-type {\n        vertical-align: middle;\n    }\n\n    .dataframe tbody tr th {\n        vertical-align: top;\n    }\n\n    .dataframe thead th {\n        text-align: right;\n    }\n</style>\n<table border=\"1\" class=\"dataframe\">\n  <thead>\n    <tr style=\"text-align: right;\">\n      <th></th>\n      <th>Respondent</th>\n      <th>MainBranch</th>\n      <th>Hobbyist</th>\n      <th>OpenSourcer</th>\n      <th>OpenSource</th>\n      <th>Employment</th>\n      <th>Country</th>\n      <th>Student</th>\n      <th>EdLevel</th>\n      <th>UndergradMajor</th>\n      <th>EduOther</th>\n      <th>OrgSize</th>\n      <th>DevType</th>\n      <th>YearsCode</th>\n      <th>Age1stCode</th>\n      <th>YearsCodePro</th>\n      <th>CareerSat</th>\n      <th>JobSat</th>\n      <th>MgrIdiot</th>\n      <th>MgrMoney</th>\n      <th>MgrWant</th>\n      <th>JobSeek</th>\n      <th>LastHireDate</th>\n      <th>LastInt</th>\n      <th>FizzBuzz</th>\n      <th>JobFactors</th>\n      <th>ResumeUpdate</th>\n      <th>CurrencySymbol</th>\n      <th>CurrencyDesc</th>\n      <th>CompTotal</th>\n      <th>CompFreq</th>\n      <th>ConvertedComp</th>\n      <th>WorkWeekHrs</th>\n      <th>WorkPlan</th>\n      <th>WorkChallenge</th>\n      <th>WorkRemote</th>\n      <th>WorkLoc</th>\n      <th>ImpSyn</th>\n      <th>CodeRev</th>\n      <th>CodeRevHrs</th>\n      <th>UnitTests</th>\n      <th>PurchaseHow</th>\n      <th>PurchaseWhat</th>\n      <th>LanguageWorkedWith</th>\n      <th>LanguageDesireNextYear</th>\n      <th>DatabaseWorkedWith</th>\n      <th>DatabaseDesireNextYear</th>\n      <th>PlatformWorkedWith</th>\n      <th>PlatformDesireNextYear</th>\n      <th>WebFrameWorkedWith</th>\n      <th>WebFrameDesireNextYear</th>\n      <th>MiscTechWorkedWith</th>\n      <th>MiscTechDesireNextYear</th>\n      <th>DevEnviron</th>\n      <th>OpSys</th>\n      <th>Containers</th>\n      <th>BlockchainOrg</th>\n      <th>BlockchainIs</th>\n      <th>BetterLife</th>\n      <th>ITperson</th>\n      <th>OffOn</th>\n      <th>SocialMedia</th>\n      <th>Extraversion</th>\n      <th>ScreenName</th>\n      <th>SOVisit1st</th>\n      <th>SOVisitFreq</th>\n      <th>SOVisitTo</th>\n      <th>SOFindAnswer</th>\n      <th>SOTimeSaved</th>\n      <th>SOHowMuchTime</th>\n      <th>SOAccount</th>\n      <th>SOPartFreq</th>\n      <th>SOJobs</th>\n      <th>EntTeams</th>\n      <th>SOComm</th>\n      <th>WelcomeChange</th>\n      <th>SONewContent</th>\n      <th>Age</th>\n      <th>Gender</th>\n      <th>Trans</th>\n      <th>Sexuality</th>\n      <th>Ethnicity</th>\n      <th>Dependents</th>\n      <th>SurveyLength</th>\n      <th>SurveyEase</th>\n    </tr>\n  </thead>\n  <tbody>\n    <tr>\n      <th>0</th>\n      <td>1</td>\n      <td>I am a student who is learning to code</td>\n      <td>Yes</td>\n      <td>Never</td>\n      <td>The quality of OSS and closed source software ...</td>\n      <td>Not employed, and not looking for work</td>\n      <td>United Kingdom</td>\n      <td>No</td>\n      <td>Primary/elementary school</td>\n      <td>NaN</td>\n      <td>Taught yourself a new language, framework, or ...</td>\n      <td>NaN</td>\n      <td>NaN</td>\n      <td>4</td>\n      <td>10</td>\n      <td>NaN</td>\n      <td>NaN</td>\n      <td>NaN</td>\n      <td>NaN</td>\n      <td>NaN</td>\n      <td>NaN</td>\n      <td>NaN</td>\n      <td>NaN</td>\n      <td>NaN</td>\n      <td>NaN</td>\n      <td>NaN</td>\n      <td>NaN</td>\n      <td>NaN</td>\n      <td>NaN</td>\n      <td>NaN</td>\n      <td>NaN</td>\n      <td>NaN</td>\n      <td>NaN</td>\n      <td>NaN</td>\n      <td>NaN</td>\n      <td>NaN</td>\n      <td>NaN</td>\n      <td>NaN</td>\n      <td>NaN</td>\n      <td>NaN</td>\n      <td>NaN</td>\n      <td>NaN</td>\n      <td>NaN</td>\n      <td>HTML/CSS;Java;JavaScript;Python</td>\n      <td>C;C++;C#;Go;HTML/CSS;Java;JavaScript;Python;SQL</td>\n      <td>SQLite</td>\n      <td>MySQL</td>\n      <td>MacOS;Windows</td>\n      <td>Android;Arduino;Windows</td>\n      <td>Django;Flask</td>\n      <td>Flask;jQuery</td>\n      <td>Node.js</td>\n      <td>Node.js</td>\n      <td>IntelliJ;Notepad++;PyCharm</td>\n      <td>Windows</td>\n      <td>I do not use containers</td>\n      <td>NaN</td>\n      <td>NaN</td>\n      <td>Yes</td>\n      <td>Fortunately, someone else has that title</td>\n      <td>Yes</td>\n      <td>Twitter</td>\n      <td>Online</td>\n      <td>Username</td>\n      <td>2017</td>\n      <td>A few times per month or weekly</td>\n      <td>Find answers to specific questions;Learn how t...</td>\n      <td>3-5 times per week</td>\n      <td>Stack Overflow was much faster</td>\n      <td>31-60 minutes</td>\n      <td>No</td>\n      <td>NaN</td>\n      <td>No, I didn't know that Stack Overflow had a jo...</td>\n      <td>No, and I don't know what those are</td>\n      <td>Neutral</td>\n      <td>Just as welcome now as I felt last year</td>\n      <td>Tech articles written by other developers;Indu...</td>\n      <td>14.0</td>\n      <td>Man</td>\n      <td>No</td>\n      <td>Straight / Heterosexual</td>\n      <td>NaN</td>\n      <td>No</td>\n      <td>Appropriate in length</td>\n      <td>Neither easy nor difficult</td>\n    </tr>\n  </tbody>\n</table>\n</div>"
     },
     "metadata": {},
     "execution_count": 3
    }
   ],
   "source": [
    "dt.head(1)"
   ]
  },
  {
   "cell_type": "code",
   "execution_count": 4,
   "metadata": {},
   "outputs": [
    {
     "output_type": "stream",
     "name": "stdout",
     "text": "<class 'pandas.core.frame.DataFrame'>\nRangeIndex: 88883 entries, 0 to 88882\nData columns (total 85 columns):\n #   Column                  Non-Null Count  Dtype  \n---  ------                  --------------  -----  \n 0   Respondent              88883 non-null  int64  \n 1   MainBranch              88331 non-null  object \n 2   Hobbyist                88883 non-null  object \n 3   OpenSourcer             88883 non-null  object \n 4   OpenSource              86842 non-null  object \n 5   Employment              87181 non-null  object \n 6   Country                 88751 non-null  object \n 7   Student                 87014 non-null  object \n 8   EdLevel                 86390 non-null  object \n 9   UndergradMajor          75614 non-null  object \n 10  EduOther                84260 non-null  object \n 11  OrgSize                 71791 non-null  object \n 12  DevType                 81335 non-null  object \n 13  YearsCode               87938 non-null  object \n 14  Age1stCode              87634 non-null  object \n 15  YearsCodePro            74331 non-null  object \n 16  CareerSat               72847 non-null  object \n 17  JobSat                  70988 non-null  object \n 18  MgrIdiot                61159 non-null  object \n 19  MgrMoney                61157 non-null  object \n 20  MgrWant                 61232 non-null  object \n 21  JobSeek                 80555 non-null  object \n 22  LastHireDate            79854 non-null  object \n 23  LastInt                 67155 non-null  object \n 24  FizzBuzz                71344 non-null  object \n 25  JobFactors              79371 non-null  object \n 26  ResumeUpdate            77877 non-null  object \n 27  CurrencySymbol          71392 non-null  object \n 28  CurrencyDesc            71392 non-null  object \n 29  CompTotal               55945 non-null  float64\n 30  CompFreq                63268 non-null  object \n 31  ConvertedComp           55823 non-null  float64\n 32  WorkWeekHrs             64503 non-null  float64\n 33  WorkPlan                68914 non-null  object \n 34  WorkChallenge           68141 non-null  object \n 35  WorkRemote              70284 non-null  object \n 36  WorkLoc                 70055 non-null  object \n 37  ImpSyn                  71779 non-null  object \n 38  CodeRev                 70390 non-null  object \n 39  CodeRevHrs              49790 non-null  float64\n 40  UnitTests               62668 non-null  object \n 41  PurchaseHow             61108 non-null  object \n 42  PurchaseWhat            62029 non-null  object \n 43  LanguageWorkedWith      87569 non-null  object \n 44  LanguageDesireNextYear  84088 non-null  object \n 45  DatabaseWorkedWith      76026 non-null  object \n 46  DatabaseDesireNextYear  69147 non-null  object \n 47  PlatformWorkedWith      80714 non-null  object \n 48  PlatformDesireNextYear  77443 non-null  object \n 49  WebFrameWorkedWith      65022 non-null  object \n 50  WebFrameDesireNextYear  62944 non-null  object \n 51  MiscTechWorkedWith      59586 non-null  object \n 52  MiscTechDesireNextYear  64511 non-null  object \n 53  DevEnviron              87317 non-null  object \n 54  OpSys                   87851 non-null  object \n 55  Containers              85366 non-null  object \n 56  BlockchainOrg           48175 non-null  object \n 57  BlockchainIs            60165 non-null  object \n 58  BetterLife              86269 non-null  object \n 59  ITperson                87141 non-null  object \n 60  OffOn                   86663 non-null  object \n 61  SocialMedia             84437 non-null  object \n 62  Extraversion            87305 non-null  object \n 63  ScreenName              80486 non-null  object \n 64  SOVisit1st              83877 non-null  object \n 65  SOVisitFreq             88263 non-null  object \n 66  SOVisitTo               88086 non-null  object \n 67  SOFindAnswer            87816 non-null  object \n 68  SOTimeSaved             86344 non-null  object \n 69  SOHowMuchTime           68378 non-null  object \n 70  SOAccount               87828 non-null  object \n 71  SOPartFreq              74692 non-null  object \n 72  SOJobs                  88066 non-null  object \n 73  EntTeams                87841 non-null  object \n 74  SOComm                  88131 non-null  object \n 75  WelcomeChange           85855 non-null  object \n 76  SONewContent            69560 non-null  object \n 77  Age                     79210 non-null  float64\n 78  Gender                  85406 non-null  object \n 79  Trans                   83607 non-null  object \n 80  Sexuality               76147 non-null  object \n 81  Ethnicity               76668 non-null  object \n 82  Dependents              83059 non-null  object \n 83  SurveyLength            86984 non-null  object \n 84  SurveyEase              87081 non-null  object \ndtypes: float64(5), int64(1), object(79)\nmemory usage: 57.6+ MB\n"
    }
   ],
   "source": [
    "dt.info()"
   ]
  },
  {
   "cell_type": "code",
   "execution_count": 5,
   "metadata": {},
   "outputs": [
    {
     "output_type": "execute_result",
     "data": {
      "text/plain": "29    What is your current total compensation (salar...\nName: QuestionText, dtype: object"
     },
     "metadata": {},
     "execution_count": 5
    }
   ],
   "source": [
    "dt_schema[dt_schema['Column']=='CompTotal']['QuestionText']"
   ]
  },
  {
   "cell_type": "code",
   "execution_count": 6,
   "metadata": {},
   "outputs": [
    {
     "output_type": "execute_result",
     "data": {
      "text/plain": "Visual Studio Code                                                          147\nVisual Studio;Visual Studio Code                                             97\nNotepad++;Visual Studio;Visual Studio Code                                   64\nVim;Visual Studio Code                                                       61\nVim                                                                          47\n                                                                           ... \nIntelliJ;IPython / Jupyter;PyCharm                                            1\nAndroid Studio;Atom;PHPStorm;PyCharm;Sublime Text;Vim;Visual Studio Code      1\nIntelliJ;Sublime Text;Vim;Visual Studio;Visual Studio Code                    1\nAtom;IntelliJ;PHPStorm;Visual Studio;Visual Studio Code                       1\nIntelliJ;PHPStorm;Visual Studio Code                                          1\nName: DevEnviron, Length: 684, dtype: int64"
     },
     "metadata": {},
     "execution_count": 6
    }
   ],
   "source": [
    "brazil = dt[dt['Country'] == 'Brazil']\n",
    "# brazil.head(10)\n",
    "# pd.Series(pd.Categorical(brazil['CodeRevHrs'].value_counts(), ordered=False))\n",
    "brazil['DevEnviron'].value_counts()"
   ]
  }
 ],
 "metadata": {
  "language_info": {
   "codemirror_mode": {
    "name": "ipython",
    "version": 3
   },
   "file_extension": ".py",
   "mimetype": "text/x-python",
   "name": "python",
   "nbconvert_exporter": "python",
   "pygments_lexer": "ipython3",
   "version": "3.7.4-final"
  },
  "orig_nbformat": 2,
  "kernelspec": {
   "name": "python37464bitvenvvirtualenvc4c97c7909d24bcd9fda302b0576ef40",
   "display_name": "Python 3.7.4 64-bit ('.venv': virtualenv)"
  }
 },
 "nbformat": 4,
 "nbformat_minor": 2
}