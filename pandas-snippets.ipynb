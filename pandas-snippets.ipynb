{
 "cells": [
  {
   "cell_type": "code",
   "execution_count": 1,
   "metadata": {},
   "outputs": [],
   "source": [
    "import pandas as pd"
   ]
  },
  {
   "cell_type": "markdown",
   "metadata": {},
   "source": [
    "## Creating the DataFrame"
   ]
  },
  {
   "cell_type": "code",
   "execution_count": 2,
   "metadata": {},
   "outputs": [],
   "source": [
    "people = {\n",
    "    'id': [4, 5, 2, 3, 1, 6],\n",
    "    'name': ['Sam', 'Eleonore', 'Margaret', 'Ralf', 'Dean', 'Rig'],\n",
    "    'surname': ['Hasmond', 'Hasmond', 'Sims', 'Maquita', 'Naed', 'Hight'],\n",
    "    'age': [33, 35, 15, 32, 17, 90],\n",
    "    'sex': ['M', 'F', 'F', 'M', 'M', 'M'],\n",
    "    'email': ['samhasmond@hasmonds.com', 'eleonorehasmond@hasmonds.com', 'mag@me.to.com', 'mrmaquita@somene.maq.com', 'serinity@health.com', 'girmas@support.com'],\n",
    "}\n",
    "df = pd.DataFrame(people)"
   ]
  },
  {
   "cell_type": "markdown",
   "metadata": {},
   "source": [
    "## Define the rows index"
   ]
  },
  {
   "cell_type": "code",
   "execution_count": 3,
   "metadata": {},
   "outputs": [
    {
     "output_type": "execute_result",
     "data": {
      "text/plain": "        name  surname  age sex                         email\nid                                                          \n1       Dean     Naed   17   M           serinity@health.com\n2   Margaret     Sims   15   F                 mag@me.to.com\n3       Ralf  Maquita   32   M      mrmaquita@somene.maq.com\n4        Sam  Hasmond   33   M       samhasmond@hasmonds.com\n5   Eleonore  Hasmond   35   F  eleonorehasmond@hasmonds.com\n6        Rig    Hight   90   M            girmas@support.com",
      "text/html": "<div>\n<style scoped>\n    .dataframe tbody tr th:only-of-type {\n        vertical-align: middle;\n    }\n\n    .dataframe tbody tr th {\n        vertical-align: top;\n    }\n\n    .dataframe thead th {\n        text-align: right;\n    }\n</style>\n<table border=\"1\" class=\"dataframe\">\n  <thead>\n    <tr style=\"text-align: right;\">\n      <th></th>\n      <th>name</th>\n      <th>surname</th>\n      <th>age</th>\n      <th>sex</th>\n      <th>email</th>\n    </tr>\n    <tr>\n      <th>id</th>\n      <th></th>\n      <th></th>\n      <th></th>\n      <th></th>\n      <th></th>\n    </tr>\n  </thead>\n  <tbody>\n    <tr>\n      <th>1</th>\n      <td>Dean</td>\n      <td>Naed</td>\n      <td>17</td>\n      <td>M</td>\n      <td>serinity@health.com</td>\n    </tr>\n    <tr>\n      <th>2</th>\n      <td>Margaret</td>\n      <td>Sims</td>\n      <td>15</td>\n      <td>F</td>\n      <td>mag@me.to.com</td>\n    </tr>\n    <tr>\n      <th>3</th>\n      <td>Ralf</td>\n      <td>Maquita</td>\n      <td>32</td>\n      <td>M</td>\n      <td>mrmaquita@somene.maq.com</td>\n    </tr>\n    <tr>\n      <th>4</th>\n      <td>Sam</td>\n      <td>Hasmond</td>\n      <td>33</td>\n      <td>M</td>\n      <td>samhasmond@hasmonds.com</td>\n    </tr>\n    <tr>\n      <th>5</th>\n      <td>Eleonore</td>\n      <td>Hasmond</td>\n      <td>35</td>\n      <td>F</td>\n      <td>eleonorehasmond@hasmonds.com</td>\n    </tr>\n    <tr>\n      <th>6</th>\n      <td>Rig</td>\n      <td>Hight</td>\n      <td>90</td>\n      <td>M</td>\n      <td>girmas@support.com</td>\n    </tr>\n  </tbody>\n</table>\n</div>"
     },
     "metadata": {},
     "execution_count": 3
    }
   ],
   "source": [
    "df.set_index('id', inplace=True) # Set id as index\n",
    "df.sort_index(ascending=True, inplace=True) # Order dt asc\n",
    "df"
   ]
  },
  {
   "cell_type": "markdown",
   "metadata": {},
   "source": [
    "## Filter rows"
   ]
  },
  {
   "cell_type": "code",
   "execution_count": 4,
   "metadata": {},
   "outputs": [],
   "source": [
    "# Filt by sex\n",
    "male = (df['sex'] == 'M')\n",
    "female = (df['sex'] == 'F')\n",
    "\n",
    "# Filt adults\n",
    "male_adult = (df['age'] > 18) & (df['sex'] == 'M')\n",
    "female_adult = (df['age'] > 18) & (df['sex'] == 'F')\n",
    "\n",
    "# Filt names\n",
    "selecteds = (df['surname'] == 'Hasmond') | (df['name'] == 'Dean')"
   ]
  },
  {
   "cell_type": "code",
   "execution_count": 5,
   "metadata": {},
   "outputs": [
    {
     "output_type": "execute_result",
     "data": {
      "text/plain": "    name  age\nid           \n1   Dean   17\n3   Ralf   32\n4    Sam   33\n6    Rig   90",
      "text/html": "<div>\n<style scoped>\n    .dataframe tbody tr th:only-of-type {\n        vertical-align: middle;\n    }\n\n    .dataframe tbody tr th {\n        vertical-align: top;\n    }\n\n    .dataframe thead th {\n        text-align: right;\n    }\n</style>\n<table border=\"1\" class=\"dataframe\">\n  <thead>\n    <tr style=\"text-align: right;\">\n      <th></th>\n      <th>name</th>\n      <th>age</th>\n    </tr>\n    <tr>\n      <th>id</th>\n      <th></th>\n      <th></th>\n    </tr>\n  </thead>\n  <tbody>\n    <tr>\n      <th>1</th>\n      <td>Dean</td>\n      <td>17</td>\n    </tr>\n    <tr>\n      <th>3</th>\n      <td>Ralf</td>\n      <td>32</td>\n    </tr>\n    <tr>\n      <th>4</th>\n      <td>Sam</td>\n      <td>33</td>\n    </tr>\n    <tr>\n      <th>6</th>\n      <td>Rig</td>\n      <td>90</td>\n    </tr>\n  </tbody>\n</table>\n</div>"
     },
     "metadata": {},
     "execution_count": 5
    }
   ],
   "source": [
    "# view filtered result of Male\n",
    "df.loc[male, ['name', 'age']]"
   ]
  },
  {
   "cell_type": "code",
   "execution_count": 6,
   "metadata": {},
   "outputs": [
    {
     "output_type": "execute_result",
     "data": {
      "text/plain": "        name  age\nid               \n2   Margaret   15\n5   Eleonore   35",
      "text/html": "<div>\n<style scoped>\n    .dataframe tbody tr th:only-of-type {\n        vertical-align: middle;\n    }\n\n    .dataframe tbody tr th {\n        vertical-align: top;\n    }\n\n    .dataframe thead th {\n        text-align: right;\n    }\n</style>\n<table border=\"1\" class=\"dataframe\">\n  <thead>\n    <tr style=\"text-align: right;\">\n      <th></th>\n      <th>name</th>\n      <th>age</th>\n    </tr>\n    <tr>\n      <th>id</th>\n      <th></th>\n      <th></th>\n    </tr>\n  </thead>\n  <tbody>\n    <tr>\n      <th>2</th>\n      <td>Margaret</td>\n      <td>15</td>\n    </tr>\n    <tr>\n      <th>5</th>\n      <td>Eleonore</td>\n      <td>35</td>\n    </tr>\n  </tbody>\n</table>\n</div>"
     },
     "metadata": {},
     "execution_count": 6
    }
   ],
   "source": [
    "# view filtered result of Female\n",
    "df.loc[female, ['name', 'age']]"
   ]
  },
  {
   "cell_type": "code",
   "execution_count": 7,
   "metadata": {},
   "outputs": [
    {
     "output_type": "execute_result",
     "data": {
      "text/plain": "    name  age\nid           \n3   Ralf   32\n4    Sam   33\n6    Rig   90",
      "text/html": "<div>\n<style scoped>\n    .dataframe tbody tr th:only-of-type {\n        vertical-align: middle;\n    }\n\n    .dataframe tbody tr th {\n        vertical-align: top;\n    }\n\n    .dataframe thead th {\n        text-align: right;\n    }\n</style>\n<table border=\"1\" class=\"dataframe\">\n  <thead>\n    <tr style=\"text-align: right;\">\n      <th></th>\n      <th>name</th>\n      <th>age</th>\n    </tr>\n    <tr>\n      <th>id</th>\n      <th></th>\n      <th></th>\n    </tr>\n  </thead>\n  <tbody>\n    <tr>\n      <th>3</th>\n      <td>Ralf</td>\n      <td>32</td>\n    </tr>\n    <tr>\n      <th>4</th>\n      <td>Sam</td>\n      <td>33</td>\n    </tr>\n    <tr>\n      <th>6</th>\n      <td>Rig</td>\n      <td>90</td>\n    </tr>\n  </tbody>\n</table>\n</div>"
     },
     "metadata": {},
     "execution_count": 7
    }
   ],
   "source": [
    "# view filtered Male adults\n",
    "df.loc[male_adult, ['name', 'age']]"
   ]
  },
  {
   "cell_type": "code",
   "execution_count": 8,
   "metadata": {},
   "outputs": [
    {
     "output_type": "execute_result",
     "data": {
      "text/plain": "        name  age\nid               \n5   Eleonore   35",
      "text/html": "<div>\n<style scoped>\n    .dataframe tbody tr th:only-of-type {\n        vertical-align: middle;\n    }\n\n    .dataframe tbody tr th {\n        vertical-align: top;\n    }\n\n    .dataframe thead th {\n        text-align: right;\n    }\n</style>\n<table border=\"1\" class=\"dataframe\">\n  <thead>\n    <tr style=\"text-align: right;\">\n      <th></th>\n      <th>name</th>\n      <th>age</th>\n    </tr>\n    <tr>\n      <th>id</th>\n      <th></th>\n      <th></th>\n    </tr>\n  </thead>\n  <tbody>\n    <tr>\n      <th>5</th>\n      <td>Eleonore</td>\n      <td>35</td>\n    </tr>\n  </tbody>\n</table>\n</div>"
     },
     "metadata": {},
     "execution_count": 8
    }
   ],
   "source": [
    "# view filtered Female adults\n",
    "df.loc[female_adult, ['name', 'age']]"
   ]
  },
  {
   "cell_type": "code",
   "execution_count": 9,
   "metadata": {},
   "outputs": [
    {
     "output_type": "execute_result",
     "data": {
      "text/plain": "        name  age                         email\nid                                             \n1       Dean   17           serinity@health.com\n4        Sam   33       samhasmond@hasmonds.com\n5   Eleonore   35  eleonorehasmond@hasmonds.com",
      "text/html": "<div>\n<style scoped>\n    .dataframe tbody tr th:only-of-type {\n        vertical-align: middle;\n    }\n\n    .dataframe tbody tr th {\n        vertical-align: top;\n    }\n\n    .dataframe thead th {\n        text-align: right;\n    }\n</style>\n<table border=\"1\" class=\"dataframe\">\n  <thead>\n    <tr style=\"text-align: right;\">\n      <th></th>\n      <th>name</th>\n      <th>age</th>\n      <th>email</th>\n    </tr>\n    <tr>\n      <th>id</th>\n      <th></th>\n      <th></th>\n      <th></th>\n    </tr>\n  </thead>\n  <tbody>\n    <tr>\n      <th>1</th>\n      <td>Dean</td>\n      <td>17</td>\n      <td>serinity@health.com</td>\n    </tr>\n    <tr>\n      <th>4</th>\n      <td>Sam</td>\n      <td>33</td>\n      <td>samhasmond@hasmonds.com</td>\n    </tr>\n    <tr>\n      <th>5</th>\n      <td>Eleonore</td>\n      <td>35</td>\n      <td>eleonorehasmond@hasmonds.com</td>\n    </tr>\n  </tbody>\n</table>\n</div>"
     },
     "metadata": {},
     "execution_count": 9
    }
   ],
   "source": [
    "# view filtered selecteds by some criteria\n",
    "df.loc[selecteds, ['name', 'age', 'email']]"
   ]
  },
  {
   "cell_type": "code",
   "execution_count": 10,
   "metadata": {},
   "outputs": [
    {
     "output_type": "execute_result",
     "data": {
      "text/plain": "        name  age                     email\nid                                         \n2   Margaret   15             mag@me.to.com\n3       Ralf   32  mrmaquita@somene.maq.com\n6        Rig   90        girmas@support.com",
      "text/html": "<div>\n<style scoped>\n    .dataframe tbody tr th:only-of-type {\n        vertical-align: middle;\n    }\n\n    .dataframe tbody tr th {\n        vertical-align: top;\n    }\n\n    .dataframe thead th {\n        text-align: right;\n    }\n</style>\n<table border=\"1\" class=\"dataframe\">\n  <thead>\n    <tr style=\"text-align: right;\">\n      <th></th>\n      <th>name</th>\n      <th>age</th>\n      <th>email</th>\n    </tr>\n    <tr>\n      <th>id</th>\n      <th></th>\n      <th></th>\n      <th></th>\n    </tr>\n  </thead>\n  <tbody>\n    <tr>\n      <th>2</th>\n      <td>Margaret</td>\n      <td>15</td>\n      <td>mag@me.to.com</td>\n    </tr>\n    <tr>\n      <th>3</th>\n      <td>Ralf</td>\n      <td>32</td>\n      <td>mrmaquita@somene.maq.com</td>\n    </tr>\n    <tr>\n      <th>6</th>\n      <td>Rig</td>\n      <td>90</td>\n      <td>girmas@support.com</td>\n    </tr>\n  </tbody>\n</table>\n</div>"
     },
     "metadata": {},
     "execution_count": 10
    }
   ],
   "source": [
    "# Show not selecteds\n",
    "df.loc[~selecteds, ['name', 'age', 'email']]"
   ]
  },
  {
   "cell_type": "markdown",
   "metadata": {},
   "source": [
    "## Update Collumns"
   ]
  },
  {
   "cell_type": "code",
   "execution_count": 11,
   "metadata": {},
   "outputs": [
    {
     "output_type": "execute_result",
     "data": {
      "text/plain": "    NAME SURNAME  AGE SEX                EMAIL\nid                                            \n1   Dean    Naed   17   M  serinity@health.com",
      "text/html": "<div>\n<style scoped>\n    .dataframe tbody tr th:only-of-type {\n        vertical-align: middle;\n    }\n\n    .dataframe tbody tr th {\n        vertical-align: top;\n    }\n\n    .dataframe thead th {\n        text-align: right;\n    }\n</style>\n<table border=\"1\" class=\"dataframe\">\n  <thead>\n    <tr style=\"text-align: right;\">\n      <th></th>\n      <th>NAME</th>\n      <th>SURNAME</th>\n      <th>AGE</th>\n      <th>SEX</th>\n      <th>EMAIL</th>\n    </tr>\n    <tr>\n      <th>id</th>\n      <th></th>\n      <th></th>\n      <th></th>\n      <th></th>\n      <th></th>\n    </tr>\n  </thead>\n  <tbody>\n    <tr>\n      <th>1</th>\n      <td>Dean</td>\n      <td>Naed</td>\n      <td>17</td>\n      <td>M</td>\n      <td>serinity@health.com</td>\n    </tr>\n  </tbody>\n</table>\n</div>"
     },
     "metadata": {},
     "execution_count": 11
    }
   ],
   "source": [
    "# Update all collumns name\n",
    "df.columns = [c.upper() for c in df.columns]\n",
    "df.head(1)"
   ]
  },
  {
   "cell_type": "code",
   "execution_count": 12,
   "metadata": {},
   "outputs": [
    {
     "output_type": "execute_result",
     "data": {
      "text/plain": "   User Name User Last Name  User Age User Sex                Email\nid                                                                 \n1       Dean           Naed        17        M  serinity@health.com",
      "text/html": "<div>\n<style scoped>\n    .dataframe tbody tr th:only-of-type {\n        vertical-align: middle;\n    }\n\n    .dataframe tbody tr th {\n        vertical-align: top;\n    }\n\n    .dataframe thead th {\n        text-align: right;\n    }\n</style>\n<table border=\"1\" class=\"dataframe\">\n  <thead>\n    <tr style=\"text-align: right;\">\n      <th></th>\n      <th>User Name</th>\n      <th>User Last Name</th>\n      <th>User Age</th>\n      <th>User Sex</th>\n      <th>Email</th>\n    </tr>\n    <tr>\n      <th>id</th>\n      <th></th>\n      <th></th>\n      <th></th>\n      <th></th>\n      <th></th>\n    </tr>\n  </thead>\n  <tbody>\n    <tr>\n      <th>1</th>\n      <td>Dean</td>\n      <td>Naed</td>\n      <td>17</td>\n      <td>M</td>\n      <td>serinity@health.com</td>\n    </tr>\n  </tbody>\n</table>\n</div>"
     },
     "metadata": {},
     "execution_count": 12
    }
   ],
   "source": [
    "# Rename columns\n",
    "df.columns = ['User Name', 'User Last Name', 'User Age', 'User Sex', 'Email']\n",
    "df.head(1)"
   ]
  },
  {
   "cell_type": "code",
   "execution_count": 13,
   "metadata": {},
   "outputs": [
    {
     "output_type": "execute_result",
     "data": {
      "text/plain": "   User_Name User_Last_Name  User_Age User_Sex                Email\nid                                                                 \n1       Dean           Naed        17        M  serinity@health.com",
      "text/html": "<div>\n<style scoped>\n    .dataframe tbody tr th:only-of-type {\n        vertical-align: middle;\n    }\n\n    .dataframe tbody tr th {\n        vertical-align: top;\n    }\n\n    .dataframe thead th {\n        text-align: right;\n    }\n</style>\n<table border=\"1\" class=\"dataframe\">\n  <thead>\n    <tr style=\"text-align: right;\">\n      <th></th>\n      <th>User_Name</th>\n      <th>User_Last_Name</th>\n      <th>User_Age</th>\n      <th>User_Sex</th>\n      <th>Email</th>\n    </tr>\n    <tr>\n      <th>id</th>\n      <th></th>\n      <th></th>\n      <th></th>\n      <th></th>\n      <th></th>\n    </tr>\n  </thead>\n  <tbody>\n    <tr>\n      <th>1</th>\n      <td>Dean</td>\n      <td>Naed</td>\n      <td>17</td>\n      <td>M</td>\n      <td>serinity@health.com</td>\n    </tr>\n  </tbody>\n</table>\n</div>"
     },
     "metadata": {},
     "execution_count": 13
    }
   ],
   "source": [
    "# Replace space on columns\n",
    "df.columns = df.columns.str.replace(' ', '_')\n",
    "df.head(1)"
   ]
  },
  {
   "cell_type": "code",
   "execution_count": 14,
   "metadata": {},
   "outputs": [
    {
     "output_type": "execute_result",
     "data": {
      "text/plain": "   user_name user_last_name  user_age user_sex                email\nid                                                                 \n1       Dean           Naed        17        M  serinity@health.com",
      "text/html": "<div>\n<style scoped>\n    .dataframe tbody tr th:only-of-type {\n        vertical-align: middle;\n    }\n\n    .dataframe tbody tr th {\n        vertical-align: top;\n    }\n\n    .dataframe thead th {\n        text-align: right;\n    }\n</style>\n<table border=\"1\" class=\"dataframe\">\n  <thead>\n    <tr style=\"text-align: right;\">\n      <th></th>\n      <th>user_name</th>\n      <th>user_last_name</th>\n      <th>user_age</th>\n      <th>user_sex</th>\n      <th>email</th>\n    </tr>\n    <tr>\n      <th>id</th>\n      <th></th>\n      <th></th>\n      <th></th>\n      <th></th>\n      <th></th>\n    </tr>\n  </thead>\n  <tbody>\n    <tr>\n      <th>1</th>\n      <td>Dean</td>\n      <td>Naed</td>\n      <td>17</td>\n      <td>M</td>\n      <td>serinity@health.com</td>\n    </tr>\n  </tbody>\n</table>\n</div>"
     },
     "metadata": {},
     "execution_count": 14
    }
   ],
   "source": [
    "# Update all collumns name\n",
    "df.columns = [c.lower() for c in df.columns]\n",
    "df.head(1)"
   ]
  },
  {
   "cell_type": "code",
   "execution_count": 15,
   "metadata": {},
   "outputs": [
    {
     "output_type": "execute_result",
     "data": {
      "text/plain": "    name surname  age sex                email\nid                                            \n1   Dean    Naed   17   M  serinity@health.com",
      "text/html": "<div>\n<style scoped>\n    .dataframe tbody tr th:only-of-type {\n        vertical-align: middle;\n    }\n\n    .dataframe tbody tr th {\n        vertical-align: top;\n    }\n\n    .dataframe thead th {\n        text-align: right;\n    }\n</style>\n<table border=\"1\" class=\"dataframe\">\n  <thead>\n    <tr style=\"text-align: right;\">\n      <th></th>\n      <th>name</th>\n      <th>surname</th>\n      <th>age</th>\n      <th>sex</th>\n      <th>email</th>\n    </tr>\n    <tr>\n      <th>id</th>\n      <th></th>\n      <th></th>\n      <th></th>\n      <th></th>\n      <th></th>\n    </tr>\n  </thead>\n  <tbody>\n    <tr>\n      <th>1</th>\n      <td>Dean</td>\n      <td>Naed</td>\n      <td>17</td>\n      <td>M</td>\n      <td>serinity@health.com</td>\n    </tr>\n  </tbody>\n</table>\n</div>"
     },
     "metadata": {},
     "execution_count": 15
    }
   ],
   "source": [
    "# Update especific column name \n",
    "df.rename(columns={\n",
    "    'user_name': 'name',\n",
    "    'user_last_name': 'surname',\n",
    "    'user_age': 'age',\n",
    "    'user_sex': 'sex'\n",
    "}, inplace=True)\n",
    "df.head(1)"
   ]
  },
  {
   "cell_type": "markdown",
   "metadata": {},
   "source": [
    "## Update Rows"
   ]
  },
  {
   "cell_type": "code",
   "execution_count": 16,
   "metadata": {},
   "outputs": [
    {
     "output_type": "execute_result",
     "data": {
      "text/plain": "    name  surname  age sex                email\nid                                             \n1   Dean  Marcley   17   M  serinity@health.com",
      "text/html": "<div>\n<style scoped>\n    .dataframe tbody tr th:only-of-type {\n        vertical-align: middle;\n    }\n\n    .dataframe tbody tr th {\n        vertical-align: top;\n    }\n\n    .dataframe thead th {\n        text-align: right;\n    }\n</style>\n<table border=\"1\" class=\"dataframe\">\n  <thead>\n    <tr style=\"text-align: right;\">\n      <th></th>\n      <th>name</th>\n      <th>surname</th>\n      <th>age</th>\n      <th>sex</th>\n      <th>email</th>\n    </tr>\n    <tr>\n      <th>id</th>\n      <th></th>\n      <th></th>\n      <th></th>\n      <th></th>\n      <th></th>\n    </tr>\n  </thead>\n  <tbody>\n    <tr>\n      <th>1</th>\n      <td>Dean</td>\n      <td>Marcley</td>\n      <td>17</td>\n      <td>M</td>\n      <td>serinity@health.com</td>\n    </tr>\n  </tbody>\n</table>\n</div>"
     },
     "metadata": {},
     "execution_count": 16
    }
   ],
   "source": [
    "# Update single row of data By index\n",
    "df.loc[1, 'surname'] = 'Marcley'\n",
    "df.head(1)"
   ]
  },
  {
   "cell_type": "code",
   "execution_count": 17,
   "metadata": {},
   "outputs": [
    {
     "output_type": "execute_result",
     "data": {
      "text/plain": "    name surname  age sex                email\nid                                            \n1   Dean  Havens   17   M  serinity@health.com",
      "text/html": "<div>\n<style scoped>\n    .dataframe tbody tr th:only-of-type {\n        vertical-align: middle;\n    }\n\n    .dataframe tbody tr th {\n        vertical-align: top;\n    }\n\n    .dataframe thead th {\n        text-align: right;\n    }\n</style>\n<table border=\"1\" class=\"dataframe\">\n  <thead>\n    <tr style=\"text-align: right;\">\n      <th></th>\n      <th>name</th>\n      <th>surname</th>\n      <th>age</th>\n      <th>sex</th>\n      <th>email</th>\n    </tr>\n    <tr>\n      <th>id</th>\n      <th></th>\n      <th></th>\n      <th></th>\n      <th></th>\n      <th></th>\n    </tr>\n  </thead>\n  <tbody>\n    <tr>\n      <th>1</th>\n      <td>Dean</td>\n      <td>Havens</td>\n      <td>17</td>\n      <td>M</td>\n      <td>serinity@health.com</td>\n    </tr>\n  </tbody>\n</table>\n</div>"
     },
     "metadata": {},
     "execution_count": 17
    }
   ],
   "source": [
    "# Update single row of data By filter\n",
    "_filter = (df['email'] == 'serinity@health.com') & (df['age'] == 17)\n",
    "df.loc[_filter, 'surname'] = 'Havens'\n",
    "df.head(1)"
   ]
  },
  {
   "cell_type": "code",
   "execution_count": 18,
   "metadata": {},
   "outputs": [
    {
     "output_type": "execute_result",
     "data": {
      "text/plain": "        name  surname  age sex                         email\nid                                                          \n1       Dean   Havens   17   M           SERINITY@HEALTH.COM\n2   Margaret     Sims   15   F                 MAG@ME.TO.COM\n3       Ralf  Maquita   32   M      MRMAQUITA@SOMENE.MAQ.COM\n4        Sam  Hasmond   33   M       SAMHASMOND@HASMONDS.COM\n5   Eleonore  Hasmond   35   F  ELEONOREHASMOND@HASMONDS.COM\n6        Rig    Hight   90   M            GIRMAS@SUPPORT.COM",
      "text/html": "<div>\n<style scoped>\n    .dataframe tbody tr th:only-of-type {\n        vertical-align: middle;\n    }\n\n    .dataframe tbody tr th {\n        vertical-align: top;\n    }\n\n    .dataframe thead th {\n        text-align: right;\n    }\n</style>\n<table border=\"1\" class=\"dataframe\">\n  <thead>\n    <tr style=\"text-align: right;\">\n      <th></th>\n      <th>name</th>\n      <th>surname</th>\n      <th>age</th>\n      <th>sex</th>\n      <th>email</th>\n    </tr>\n    <tr>\n      <th>id</th>\n      <th></th>\n      <th></th>\n      <th></th>\n      <th></th>\n      <th></th>\n    </tr>\n  </thead>\n  <tbody>\n    <tr>\n      <th>1</th>\n      <td>Dean</td>\n      <td>Havens</td>\n      <td>17</td>\n      <td>M</td>\n      <td>SERINITY@HEALTH.COM</td>\n    </tr>\n    <tr>\n      <th>2</th>\n      <td>Margaret</td>\n      <td>Sims</td>\n      <td>15</td>\n      <td>F</td>\n      <td>MAG@ME.TO.COM</td>\n    </tr>\n    <tr>\n      <th>3</th>\n      <td>Ralf</td>\n      <td>Maquita</td>\n      <td>32</td>\n      <td>M</td>\n      <td>MRMAQUITA@SOMENE.MAQ.COM</td>\n    </tr>\n    <tr>\n      <th>4</th>\n      <td>Sam</td>\n      <td>Hasmond</td>\n      <td>33</td>\n      <td>M</td>\n      <td>SAMHASMOND@HASMONDS.COM</td>\n    </tr>\n    <tr>\n      <th>5</th>\n      <td>Eleonore</td>\n      <td>Hasmond</td>\n      <td>35</td>\n      <td>F</td>\n      <td>ELEONOREHASMOND@HASMONDS.COM</td>\n    </tr>\n    <tr>\n      <th>6</th>\n      <td>Rig</td>\n      <td>Hight</td>\n      <td>90</td>\n      <td>M</td>\n      <td>GIRMAS@SUPPORT.COM</td>\n    </tr>\n  </tbody>\n</table>\n</div>"
     },
     "metadata": {},
     "execution_count": 18
    }
   ],
   "source": [
    "# Update multiple rows of data\n",
    "df['email'] = df['email'].str.upper()\n",
    "df"
   ]
  },
  {
   "cell_type": "markdown",
   "metadata": {},
   "source": [
    "### Update multiple rows of data\n",
    "\n",
    "How to update multiple rows\n",
    "\n",
    "#### Using:\n",
    "\n",
    "- **Apply**\n",
    "  - can by use in a DataFrame or in a Series object.\n",
    "- **ApplyMap**\n",
    "    - Apply the passing function in to an every individual element on a DataFrame\n",
    "- **Map**\n",
    "    - Only works on a Series. \n",
    "    - The map is used for substitute each value in a Series with another value.\n",
    "- **Replace**\n",
    "    - Only works on a Series. \n"
   ]
  },
  {
   "cell_type": "markdown",
   "metadata": {},
   "source": [
    "##### Apply"
   ]
  },
  {
   "cell_type": "code",
   "execution_count": 19,
   "metadata": {},
   "outputs": [
    {
     "output_type": "execute_result",
     "data": {
      "text/plain": "id\n1    19\n2    13\n3    24\n4    23\n5    28\n6    18\nName: email, dtype: int64"
     },
     "metadata": {},
     "execution_count": 19
    }
   ],
   "source": [
    "# Apply\n",
    "# Using apply to count the length of emails\n",
    "# Passing the method to apply\n",
    "df['email'].apply(len)"
   ]
  },
  {
   "cell_type": "code",
   "execution_count": 20,
   "metadata": {},
   "outputs": [
    {
     "output_type": "execute_result",
     "data": {
      "text/plain": "        name  surname  age sex                         email\nid                                                          \n1       Dean   Havens   17   M           Serinity@health.com\n2   Margaret     Sims   15   F                 Mag@me.to.com\n3       Ralf  Maquita   32   M      Mrmaquita@somene.maq.com\n4        Sam  Hasmond   33   M       Samhasmond@hasmonds.com\n5   Eleonore  Hasmond   35   F  Eleonorehasmond@hasmonds.com\n6        Rig    Hight   90   M            Girmas@support.com",
      "text/html": "<div>\n<style scoped>\n    .dataframe tbody tr th:only-of-type {\n        vertical-align: middle;\n    }\n\n    .dataframe tbody tr th {\n        vertical-align: top;\n    }\n\n    .dataframe thead th {\n        text-align: right;\n    }\n</style>\n<table border=\"1\" class=\"dataframe\">\n  <thead>\n    <tr style=\"text-align: right;\">\n      <th></th>\n      <th>name</th>\n      <th>surname</th>\n      <th>age</th>\n      <th>sex</th>\n      <th>email</th>\n    </tr>\n    <tr>\n      <th>id</th>\n      <th></th>\n      <th></th>\n      <th></th>\n      <th></th>\n      <th></th>\n    </tr>\n  </thead>\n  <tbody>\n    <tr>\n      <th>1</th>\n      <td>Dean</td>\n      <td>Havens</td>\n      <td>17</td>\n      <td>M</td>\n      <td>Serinity@health.com</td>\n    </tr>\n    <tr>\n      <th>2</th>\n      <td>Margaret</td>\n      <td>Sims</td>\n      <td>15</td>\n      <td>F</td>\n      <td>Mag@me.to.com</td>\n    </tr>\n    <tr>\n      <th>3</th>\n      <td>Ralf</td>\n      <td>Maquita</td>\n      <td>32</td>\n      <td>M</td>\n      <td>Mrmaquita@somene.maq.com</td>\n    </tr>\n    <tr>\n      <th>4</th>\n      <td>Sam</td>\n      <td>Hasmond</td>\n      <td>33</td>\n      <td>M</td>\n      <td>Samhasmond@hasmonds.com</td>\n    </tr>\n    <tr>\n      <th>5</th>\n      <td>Eleonore</td>\n      <td>Hasmond</td>\n      <td>35</td>\n      <td>F</td>\n      <td>Eleonorehasmond@hasmonds.com</td>\n    </tr>\n    <tr>\n      <th>6</th>\n      <td>Rig</td>\n      <td>Hight</td>\n      <td>90</td>\n      <td>M</td>\n      <td>Girmas@support.com</td>\n    </tr>\n  </tbody>\n</table>\n</div>"
     },
     "metadata": {},
     "execution_count": 20
    }
   ],
   "source": [
    "# Usin lambda on apply\n",
    "df['email'] = df['email'].apply(lambda x: x.capitalize())\n",
    "df"
   ]
  },
  {
   "cell_type": "code",
   "execution_count": 21,
   "metadata": {},
   "outputs": [],
   "source": [
    "# Using a method\n",
    "def lower_email(email):\n",
    "    return email.lower()"
   ]
  },
  {
   "cell_type": "code",
   "execution_count": 27,
   "metadata": {},
   "outputs": [
    {
     "output_type": "execute_result",
     "data": {
      "text/plain": "        name  surname  age sex                         email\nid                                                          \n1       Dean   Havens   17   M           serinity@health.com\n2   Margaret     Sims   15   F                 mag@me.to.com\n3       Ralf  Maquita   32   M      mrmaquita@somene.maq.com\n4        Sam  Hasmond   33   M       samhasmond@hasmonds.com\n5   Eleonore  Hasmond   35   F  eleonorehasmond@hasmonds.com\n6        Rig    Hight   90   M            girmas@support.com",
      "text/html": "<div>\n<style scoped>\n    .dataframe tbody tr th:only-of-type {\n        vertical-align: middle;\n    }\n\n    .dataframe tbody tr th {\n        vertical-align: top;\n    }\n\n    .dataframe thead th {\n        text-align: right;\n    }\n</style>\n<table border=\"1\" class=\"dataframe\">\n  <thead>\n    <tr style=\"text-align: right;\">\n      <th></th>\n      <th>name</th>\n      <th>surname</th>\n      <th>age</th>\n      <th>sex</th>\n      <th>email</th>\n    </tr>\n    <tr>\n      <th>id</th>\n      <th></th>\n      <th></th>\n      <th></th>\n      <th></th>\n      <th></th>\n    </tr>\n  </thead>\n  <tbody>\n    <tr>\n      <th>1</th>\n      <td>Dean</td>\n      <td>Havens</td>\n      <td>17</td>\n      <td>M</td>\n      <td>serinity@health.com</td>\n    </tr>\n    <tr>\n      <th>2</th>\n      <td>Margaret</td>\n      <td>Sims</td>\n      <td>15</td>\n      <td>F</td>\n      <td>mag@me.to.com</td>\n    </tr>\n    <tr>\n      <th>3</th>\n      <td>Ralf</td>\n      <td>Maquita</td>\n      <td>32</td>\n      <td>M</td>\n      <td>mrmaquita@somene.maq.com</td>\n    </tr>\n    <tr>\n      <th>4</th>\n      <td>Sam</td>\n      <td>Hasmond</td>\n      <td>33</td>\n      <td>M</td>\n      <td>samhasmond@hasmonds.com</td>\n    </tr>\n    <tr>\n      <th>5</th>\n      <td>Eleonore</td>\n      <td>Hasmond</td>\n      <td>35</td>\n      <td>F</td>\n      <td>eleonorehasmond@hasmonds.com</td>\n    </tr>\n    <tr>\n      <th>6</th>\n      <td>Rig</td>\n      <td>Hight</td>\n      <td>90</td>\n      <td>M</td>\n      <td>girmas@support.com</td>\n    </tr>\n  </tbody>\n</table>\n</div>"
     },
     "metadata": {},
     "execution_count": 27
    }
   ],
   "source": [
    "# Calling the method\n",
    "df['email'] = df['email'].apply(lower_email)\n",
    "df"
   ]
  },
  {
   "cell_type": "markdown",
   "metadata": {},
   "source": [
    "##### ApplyMap"
   ]
  },
  {
   "cell_type": "code",
   "execution_count": 35,
   "metadata": {},
   "outputs": [],
   "source": [
    "def len_of(row):\n",
    "    return len(row) if type(row) is str else row"
   ]
  },
  {
   "cell_type": "code",
   "execution_count": 36,
   "metadata": {},
   "outputs": [
    {
     "output_type": "execute_result",
     "data": {
      "text/plain": "    name  surname  age  sex  email\nid                                \n1      4        6   17    1     19\n2      8        4   15    1     13\n3      4        7   32    1     24\n4      3        7   33    1     23\n5      8        7   35    1     28\n6      3        5   90    1     18",
      "text/html": "<div>\n<style scoped>\n    .dataframe tbody tr th:only-of-type {\n        vertical-align: middle;\n    }\n\n    .dataframe tbody tr th {\n        vertical-align: top;\n    }\n\n    .dataframe thead th {\n        text-align: right;\n    }\n</style>\n<table border=\"1\" class=\"dataframe\">\n  <thead>\n    <tr style=\"text-align: right;\">\n      <th></th>\n      <th>name</th>\n      <th>surname</th>\n      <th>age</th>\n      <th>sex</th>\n      <th>email</th>\n    </tr>\n    <tr>\n      <th>id</th>\n      <th></th>\n      <th></th>\n      <th></th>\n      <th></th>\n      <th></th>\n    </tr>\n  </thead>\n  <tbody>\n    <tr>\n      <th>1</th>\n      <td>4</td>\n      <td>6</td>\n      <td>17</td>\n      <td>1</td>\n      <td>19</td>\n    </tr>\n    <tr>\n      <th>2</th>\n      <td>8</td>\n      <td>4</td>\n      <td>15</td>\n      <td>1</td>\n      <td>13</td>\n    </tr>\n    <tr>\n      <th>3</th>\n      <td>4</td>\n      <td>7</td>\n      <td>32</td>\n      <td>1</td>\n      <td>24</td>\n    </tr>\n    <tr>\n      <th>4</th>\n      <td>3</td>\n      <td>7</td>\n      <td>33</td>\n      <td>1</td>\n      <td>23</td>\n    </tr>\n    <tr>\n      <th>5</th>\n      <td>8</td>\n      <td>7</td>\n      <td>35</td>\n      <td>1</td>\n      <td>28</td>\n    </tr>\n    <tr>\n      <th>6</th>\n      <td>3</td>\n      <td>5</td>\n      <td>90</td>\n      <td>1</td>\n      <td>18</td>\n    </tr>\n  </tbody>\n</table>\n</div>"
     },
     "metadata": {},
     "execution_count": 36
    }
   ],
   "source": [
    "df.applymap(len_of)"
   ]
  },
  {
   "cell_type": "markdown",
   "metadata": {},
   "source": [
    "##### Map"
   ]
  },
  {
   "cell_type": "code",
   "execution_count": 37,
   "metadata": {},
   "outputs": [
    {
     "output_type": "execute_result",
     "data": {
      "text/plain": "id\n1    Marcley\n2        NaN\n3        NaN\n4       Walt\n5        NaN\n6        NaN\nName: name, dtype: object"
     },
     "metadata": {},
     "execution_count": 37
    }
   ],
   "source": [
    "# When use map to replace values, only the keys defined in dictionary will be setted\n",
    "# Others values will receive NaN\n",
    "df['name'].map({\n",
    "    'Dean': 'Marcley',\n",
    "    'Sam': 'Walt' \n",
    "})"
   ]
  },
  {
   "cell_type": "markdown",
   "metadata": {},
   "source": [
    "##### Filter"
   ]
  },
  {
   "cell_type": "code",
   "execution_count": 42,
   "metadata": {},
   "outputs": [
    {
     "output_type": "execute_result",
     "data": {
      "text/plain": "id\n1     Marcley\n2    Margaret\n3        Ralf\n4        Walt\n5    Eleonore\n6         Rig\nName: name, dtype: object"
     },
     "metadata": {},
     "execution_count": 42
    }
   ],
   "source": [
    "# Filter will replace only the values defined in the dictionary\n",
    "# Keeping the other values untoched\n",
    "df['name'].replace({\n",
    "    'Dean': 'Marcley',\n",
    "    'Sam': 'Walt' \n",
    "})"
   ]
  },
  {
   "cell_type": "markdown",
   "metadata": {},
   "source": [
    "> To apply `map` and `replace` set the return value to the Serie e.g.: `df['name'] = df['name'].replace...`"
   ]
  }
 ],
 "metadata": {
  "language_info": {
   "codemirror_mode": {
    "name": "ipython",
    "version": 3
   },
   "file_extension": ".py",
   "mimetype": "text/x-python",
   "name": "python",
   "nbconvert_exporter": "python",
   "pygments_lexer": "ipython3",
   "version": "3.7.4-final"
  },
  "orig_nbformat": 2,
  "kernelspec": {
   "name": "python37464bitvenvvirtualenvdb9e7e45e58a412aa1d8a140187358c9",
   "display_name": "Python 3.7.4 64-bit ('.venv': virtualenv)"
  }
 },
 "nbformat": 4,
 "nbformat_minor": 2
}