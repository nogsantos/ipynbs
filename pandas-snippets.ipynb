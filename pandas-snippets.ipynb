{
 "cells": [
  {
   "cell_type": "code",
   "execution_count": 1,
   "metadata": {},
   "outputs": [],
   "source": [
    "import pandas as pd"
   ]
  },
  {
   "cell_type": "code",
   "execution_count": 28,
   "metadata": {},
   "outputs": [
    {
     "output_type": "execute_result",
     "data": {
      "text/plain": "        name  surname  age sex                         email\nid                                                          \n1       Dean     Naed   17   M           serinity@health.com\n2   Margaret     Sims   15   F                 mag@me.to.com\n3       Ralf  Maquita   32   M      mrmaquita@somene.maq.com\n4        Sam  Hasmond   33   M       samhasmond@hasmonds.com\n5   Eleonore  Hasmond   35   F  eleonorehasmond@hasmonds.com\n6        Rig    Hight   90   M            girmas@support.com",
      "text/html": "<div>\n<style scoped>\n    .dataframe tbody tr th:only-of-type {\n        vertical-align: middle;\n    }\n\n    .dataframe tbody tr th {\n        vertical-align: top;\n    }\n\n    .dataframe thead th {\n        text-align: right;\n    }\n</style>\n<table border=\"1\" class=\"dataframe\">\n  <thead>\n    <tr style=\"text-align: right;\">\n      <th></th>\n      <th>name</th>\n      <th>surname</th>\n      <th>age</th>\n      <th>sex</th>\n      <th>email</th>\n    </tr>\n    <tr>\n      <th>id</th>\n      <th></th>\n      <th></th>\n      <th></th>\n      <th></th>\n      <th></th>\n    </tr>\n  </thead>\n  <tbody>\n    <tr>\n      <th>1</th>\n      <td>Dean</td>\n      <td>Naed</td>\n      <td>17</td>\n      <td>M</td>\n      <td>serinity@health.com</td>\n    </tr>\n    <tr>\n      <th>2</th>\n      <td>Margaret</td>\n      <td>Sims</td>\n      <td>15</td>\n      <td>F</td>\n      <td>mag@me.to.com</td>\n    </tr>\n    <tr>\n      <th>3</th>\n      <td>Ralf</td>\n      <td>Maquita</td>\n      <td>32</td>\n      <td>M</td>\n      <td>mrmaquita@somene.maq.com</td>\n    </tr>\n    <tr>\n      <th>4</th>\n      <td>Sam</td>\n      <td>Hasmond</td>\n      <td>33</td>\n      <td>M</td>\n      <td>samhasmond@hasmonds.com</td>\n    </tr>\n    <tr>\n      <th>5</th>\n      <td>Eleonore</td>\n      <td>Hasmond</td>\n      <td>35</td>\n      <td>F</td>\n      <td>eleonorehasmond@hasmonds.com</td>\n    </tr>\n    <tr>\n      <th>6</th>\n      <td>Rig</td>\n      <td>Hight</td>\n      <td>90</td>\n      <td>M</td>\n      <td>girmas@support.com</td>\n    </tr>\n  </tbody>\n</table>\n</div>"
     },
     "metadata": {},
     "execution_count": 28
    }
   ],
   "source": [
    "# Define Index\n",
    "\n",
    "people = {\n",
    "    'id': [4, 5, 2, 3, 1, 6],\n",
    "    'name': ['Sam', 'Eleonore', 'Margaret', 'Ralf', 'Dean', 'Rig'],\n",
    "    'surname': ['Hasmond', 'Hasmond', 'Sims', 'Maquita', 'Naed', 'Hight'],\n",
    "    'age': [33, 35, 15, 32, 17, 90],\n",
    "    'sex': ['M', 'F', 'F', 'M', 'M', 'M'],\n",
    "    'email': ['samhasmond@hasmonds.com', 'eleonorehasmond@hasmonds.com', 'mag@me.to.com', 'mrmaquita@somene.maq.com', 'serinity@health.com', 'girmas@support.com'],\n",
    "}\n",
    "df = pd.DataFrame(people)\n",
    "\n",
    "df.set_index('id', inplace=True) # Set id as index\n",
    "df.sort_index(ascending=True, inplace=True) # Order dt asc\n",
    "\n",
    "df"
   ]
  },
  {
   "cell_type": "code",
   "execution_count": 26,
   "metadata": {},
   "outputs": [],
   "source": [
    "# Filt by sex\n",
    "male = (df['sex'] == 'M')\n",
    "female = (df['sex'] == 'F')\n",
    "\n",
    "# Filt adults\n",
    "male_adult = (df['age'] > 18) & (df['sex'] == 'M')\n",
    "female_adult = (df['age'] > 18) & (df['sex'] == 'F')\n",
    "\n",
    "# Filt names\n",
    "selecteds = (df['surname'] == 'Hasmond') | (df['name'] == 'Dean')"
   ]
  },
  {
   "cell_type": "code",
   "execution_count": 15,
   "metadata": {},
   "outputs": [
    {
     "output_type": "execute_result",
     "data": {
      "text/plain": "    name  age\nid           \n1   Dean   17\n3   Ralf   32\n4    Sam   33\n6    Rig   90",
      "text/html": "<div>\n<style scoped>\n    .dataframe tbody tr th:only-of-type {\n        vertical-align: middle;\n    }\n\n    .dataframe tbody tr th {\n        vertical-align: top;\n    }\n\n    .dataframe thead th {\n        text-align: right;\n    }\n</style>\n<table border=\"1\" class=\"dataframe\">\n  <thead>\n    <tr style=\"text-align: right;\">\n      <th></th>\n      <th>name</th>\n      <th>age</th>\n    </tr>\n    <tr>\n      <th>id</th>\n      <th></th>\n      <th></th>\n    </tr>\n  </thead>\n  <tbody>\n    <tr>\n      <th>1</th>\n      <td>Dean</td>\n      <td>17</td>\n    </tr>\n    <tr>\n      <th>3</th>\n      <td>Ralf</td>\n      <td>32</td>\n    </tr>\n    <tr>\n      <th>4</th>\n      <td>Sam</td>\n      <td>33</td>\n    </tr>\n    <tr>\n      <th>6</th>\n      <td>Rig</td>\n      <td>90</td>\n    </tr>\n  </tbody>\n</table>\n</div>"
     },
     "metadata": {},
     "execution_count": 15
    }
   ],
   "source": [
    "# view filtered result of Male\n",
    "df.loc[male, ['name', 'age']]"
   ]
  },
  {
   "cell_type": "code",
   "execution_count": 16,
   "metadata": {},
   "outputs": [
    {
     "output_type": "execute_result",
     "data": {
      "text/plain": "        name  age\nid               \n2   Margaret   15\n5   Eleonore   35",
      "text/html": "<div>\n<style scoped>\n    .dataframe tbody tr th:only-of-type {\n        vertical-align: middle;\n    }\n\n    .dataframe tbody tr th {\n        vertical-align: top;\n    }\n\n    .dataframe thead th {\n        text-align: right;\n    }\n</style>\n<table border=\"1\" class=\"dataframe\">\n  <thead>\n    <tr style=\"text-align: right;\">\n      <th></th>\n      <th>name</th>\n      <th>age</th>\n    </tr>\n    <tr>\n      <th>id</th>\n      <th></th>\n      <th></th>\n    </tr>\n  </thead>\n  <tbody>\n    <tr>\n      <th>2</th>\n      <td>Margaret</td>\n      <td>15</td>\n    </tr>\n    <tr>\n      <th>5</th>\n      <td>Eleonore</td>\n      <td>35</td>\n    </tr>\n  </tbody>\n</table>\n</div>"
     },
     "metadata": {},
     "execution_count": 16
    }
   ],
   "source": [
    "# view filtered result of Female\n",
    "df.loc[female, ['name', 'age']]"
   ]
  },
  {
   "cell_type": "code",
   "execution_count": 17,
   "metadata": {},
   "outputs": [
    {
     "output_type": "execute_result",
     "data": {
      "text/plain": "    name  age\nid           \n3   Ralf   32\n4    Sam   33\n6    Rig   90",
      "text/html": "<div>\n<style scoped>\n    .dataframe tbody tr th:only-of-type {\n        vertical-align: middle;\n    }\n\n    .dataframe tbody tr th {\n        vertical-align: top;\n    }\n\n    .dataframe thead th {\n        text-align: right;\n    }\n</style>\n<table border=\"1\" class=\"dataframe\">\n  <thead>\n    <tr style=\"text-align: right;\">\n      <th></th>\n      <th>name</th>\n      <th>age</th>\n    </tr>\n    <tr>\n      <th>id</th>\n      <th></th>\n      <th></th>\n    </tr>\n  </thead>\n  <tbody>\n    <tr>\n      <th>3</th>\n      <td>Ralf</td>\n      <td>32</td>\n    </tr>\n    <tr>\n      <th>4</th>\n      <td>Sam</td>\n      <td>33</td>\n    </tr>\n    <tr>\n      <th>6</th>\n      <td>Rig</td>\n      <td>90</td>\n    </tr>\n  </tbody>\n</table>\n</div>"
     },
     "metadata": {},
     "execution_count": 17
    }
   ],
   "source": [
    "# view filtered Male adults\n",
    "df.loc[male_adult, ['name', 'age']]"
   ]
  },
  {
   "cell_type": "code",
   "execution_count": 21,
   "metadata": {},
   "outputs": [
    {
     "output_type": "execute_result",
     "data": {
      "text/plain": "        name  age\nid               \n5   Eleonore   35",
      "text/html": "<div>\n<style scoped>\n    .dataframe tbody tr th:only-of-type {\n        vertical-align: middle;\n    }\n\n    .dataframe tbody tr th {\n        vertical-align: top;\n    }\n\n    .dataframe thead th {\n        text-align: right;\n    }\n</style>\n<table border=\"1\" class=\"dataframe\">\n  <thead>\n    <tr style=\"text-align: right;\">\n      <th></th>\n      <th>name</th>\n      <th>age</th>\n    </tr>\n    <tr>\n      <th>id</th>\n      <th></th>\n      <th></th>\n    </tr>\n  </thead>\n  <tbody>\n    <tr>\n      <th>5</th>\n      <td>Eleonore</td>\n      <td>35</td>\n    </tr>\n  </tbody>\n</table>\n</div>"
     },
     "metadata": {},
     "execution_count": 21
    }
   ],
   "source": [
    "# view filtered Female adults\n",
    "df.loc[female_adult, ['name', 'age']]"
   ]
  },
  {
   "cell_type": "code",
   "execution_count": 29,
   "metadata": {},
   "outputs": [
    {
     "output_type": "execute_result",
     "data": {
      "text/plain": "        name  age                         email\nid                                             \n1       Dean   17           serinity@health.com\n4        Sam   33       samhasmond@hasmonds.com\n5   Eleonore   35  eleonorehasmond@hasmonds.com",
      "text/html": "<div>\n<style scoped>\n    .dataframe tbody tr th:only-of-type {\n        vertical-align: middle;\n    }\n\n    .dataframe tbody tr th {\n        vertical-align: top;\n    }\n\n    .dataframe thead th {\n        text-align: right;\n    }\n</style>\n<table border=\"1\" class=\"dataframe\">\n  <thead>\n    <tr style=\"text-align: right;\">\n      <th></th>\n      <th>name</th>\n      <th>age</th>\n      <th>email</th>\n    </tr>\n    <tr>\n      <th>id</th>\n      <th></th>\n      <th></th>\n      <th></th>\n    </tr>\n  </thead>\n  <tbody>\n    <tr>\n      <th>1</th>\n      <td>Dean</td>\n      <td>17</td>\n      <td>serinity@health.com</td>\n    </tr>\n    <tr>\n      <th>4</th>\n      <td>Sam</td>\n      <td>33</td>\n      <td>samhasmond@hasmonds.com</td>\n    </tr>\n    <tr>\n      <th>5</th>\n      <td>Eleonore</td>\n      <td>35</td>\n      <td>eleonorehasmond@hasmonds.com</td>\n    </tr>\n  </tbody>\n</table>\n</div>"
     },
     "metadata": {},
     "execution_count": 29
    }
   ],
   "source": [
    "# view filtered selecteds by some criteria\n",
    "df.loc[selecteds, ['name', 'age', 'email']]"
   ]
  },
  {
   "cell_type": "code",
   "execution_count": 32,
   "metadata": {},
   "outputs": [
    {
     "output_type": "execute_result",
     "data": {
      "text/plain": "        name  age                     email\nid                                         \n2   Margaret   15             mag@me.to.com\n3       Ralf   32  mrmaquita@somene.maq.com\n6        Rig   90        girmas@support.com",
      "text/html": "<div>\n<style scoped>\n    .dataframe tbody tr th:only-of-type {\n        vertical-align: middle;\n    }\n\n    .dataframe tbody tr th {\n        vertical-align: top;\n    }\n\n    .dataframe thead th {\n        text-align: right;\n    }\n</style>\n<table border=\"1\" class=\"dataframe\">\n  <thead>\n    <tr style=\"text-align: right;\">\n      <th></th>\n      <th>name</th>\n      <th>age</th>\n      <th>email</th>\n    </tr>\n    <tr>\n      <th>id</th>\n      <th></th>\n      <th></th>\n      <th></th>\n    </tr>\n  </thead>\n  <tbody>\n    <tr>\n      <th>2</th>\n      <td>Margaret</td>\n      <td>15</td>\n      <td>mag@me.to.com</td>\n    </tr>\n    <tr>\n      <th>3</th>\n      <td>Ralf</td>\n      <td>32</td>\n      <td>mrmaquita@somene.maq.com</td>\n    </tr>\n    <tr>\n      <th>6</th>\n      <td>Rig</td>\n      <td>90</td>\n      <td>girmas@support.com</td>\n    </tr>\n  </tbody>\n</table>\n</div>"
     },
     "metadata": {},
     "execution_count": 32
    }
   ],
   "source": [
    "# Show not selecteds\n",
    "df.loc[~selecteds, ['name', 'age', 'email']]"
   ]
  }
 ],
 "metadata": {
  "language_info": {
   "codemirror_mode": {
    "name": "ipython",
    "version": 3
   },
   "file_extension": ".py",
   "mimetype": "text/x-python",
   "name": "python",
   "nbconvert_exporter": "python",
   "pygments_lexer": "ipython3",
   "version": "3.7.4-final"
  },
  "orig_nbformat": 2,
  "kernelspec": {
   "name": "python37464bitvenvvirtualenvdb9e7e45e58a412aa1d8a140187358c9",
   "display_name": "Python 3.7.4 64-bit ('.venv': virtualenv)"
  }
 },
 "nbformat": 4,
 "nbformat_minor": 2
}